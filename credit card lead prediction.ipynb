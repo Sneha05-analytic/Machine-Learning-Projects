{
 "cells": [
  {
   "cell_type": "markdown",
   "metadata": {},
   "source": [
    "#  Understanding Problem Statement"
   ]
  },
  {
   "cell_type": "markdown",
   "metadata": {},
   "source": [
    "Happy Customer Bank wants to automate the Credit Card Lead Prediction process (real time) based on customer detail provided .\n",
    "\n",
    "The Bank wants to cross sell its credit cards to its existing customers.\n",
    "\n",
    "To automate this process, the bank is looking help in identifying customers  that could show higher intent towards a recommended credit card.\n",
    "\n",
    "The following dataset contains (245725, 11) attributes.\n"
   ]
  },
  {
   "cell_type": "markdown",
   "metadata": {},
   "source": [
    "# Import modules"
   ]
  },
  {
   "cell_type": "code",
   "execution_count": 1,
   "metadata": {},
   "outputs": [],
   "source": [
    "import pandas as pd\n",
    "import numpy as np\n",
    "import seaborn as sns\n",
    "from matplotlib import pyplot as plt\n",
    "import matplotlib\n",
    "%matplotlib inline\n",
    "import warnings\n",
    "warnings.filterwarnings('ignore')"
   ]
  },
  {
   "cell_type": "markdown",
   "metadata": {},
   "source": [
    "# Loading the dataset"
   ]
  },
  {
   "cell_type": "code",
   "execution_count": 2,
   "metadata": {},
   "outputs": [
    {
     "data": {
      "text/html": [
       "<div>\n",
       "<style scoped>\n",
       "    .dataframe tbody tr th:only-of-type {\n",
       "        vertical-align: middle;\n",
       "    }\n",
       "\n",
       "    .dataframe tbody tr th {\n",
       "        vertical-align: top;\n",
       "    }\n",
       "\n",
       "    .dataframe thead th {\n",
       "        text-align: right;\n",
       "    }\n",
       "</style>\n",
       "<table border=\"1\" class=\"dataframe\">\n",
       "  <thead>\n",
       "    <tr style=\"text-align: right;\">\n",
       "      <th></th>\n",
       "      <th>ID</th>\n",
       "      <th>Gender</th>\n",
       "      <th>Age</th>\n",
       "      <th>Region_Code</th>\n",
       "      <th>Occupation</th>\n",
       "      <th>Channel_Code</th>\n",
       "      <th>Vintage</th>\n",
       "      <th>Credit_Product</th>\n",
       "      <th>Avg_Account_Balance</th>\n",
       "      <th>Is_Active</th>\n",
       "      <th>Is_Lead</th>\n",
       "    </tr>\n",
       "  </thead>\n",
       "  <tbody>\n",
       "    <tr>\n",
       "      <th>0</th>\n",
       "      <td>NNVBBKZB</td>\n",
       "      <td>Female</td>\n",
       "      <td>73</td>\n",
       "      <td>RG268</td>\n",
       "      <td>Other</td>\n",
       "      <td>X3</td>\n",
       "      <td>43</td>\n",
       "      <td>No</td>\n",
       "      <td>1045696</td>\n",
       "      <td>No</td>\n",
       "      <td>0</td>\n",
       "    </tr>\n",
       "    <tr>\n",
       "      <th>1</th>\n",
       "      <td>IDD62UNG</td>\n",
       "      <td>Female</td>\n",
       "      <td>30</td>\n",
       "      <td>RG277</td>\n",
       "      <td>Salaried</td>\n",
       "      <td>X1</td>\n",
       "      <td>32</td>\n",
       "      <td>No</td>\n",
       "      <td>581988</td>\n",
       "      <td>No</td>\n",
       "      <td>0</td>\n",
       "    </tr>\n",
       "    <tr>\n",
       "      <th>2</th>\n",
       "      <td>HD3DSEMC</td>\n",
       "      <td>Female</td>\n",
       "      <td>56</td>\n",
       "      <td>RG268</td>\n",
       "      <td>Self_Employed</td>\n",
       "      <td>X3</td>\n",
       "      <td>26</td>\n",
       "      <td>No</td>\n",
       "      <td>1484315</td>\n",
       "      <td>Yes</td>\n",
       "      <td>0</td>\n",
       "    </tr>\n",
       "    <tr>\n",
       "      <th>3</th>\n",
       "      <td>BF3NC7KV</td>\n",
       "      <td>Male</td>\n",
       "      <td>34</td>\n",
       "      <td>RG270</td>\n",
       "      <td>Salaried</td>\n",
       "      <td>X1</td>\n",
       "      <td>19</td>\n",
       "      <td>No</td>\n",
       "      <td>470454</td>\n",
       "      <td>No</td>\n",
       "      <td>0</td>\n",
       "    </tr>\n",
       "    <tr>\n",
       "      <th>4</th>\n",
       "      <td>TEASRWXV</td>\n",
       "      <td>Female</td>\n",
       "      <td>30</td>\n",
       "      <td>RG282</td>\n",
       "      <td>Salaried</td>\n",
       "      <td>X1</td>\n",
       "      <td>33</td>\n",
       "      <td>No</td>\n",
       "      <td>886787</td>\n",
       "      <td>No</td>\n",
       "      <td>0</td>\n",
       "    </tr>\n",
       "  </tbody>\n",
       "</table>\n",
       "</div>"
      ],
      "text/plain": [
       "         ID  Gender  Age Region_Code     Occupation Channel_Code  Vintage  \\\n",
       "0  NNVBBKZB  Female   73       RG268          Other           X3       43   \n",
       "1  IDD62UNG  Female   30       RG277       Salaried           X1       32   \n",
       "2  HD3DSEMC  Female   56       RG268  Self_Employed           X3       26   \n",
       "3  BF3NC7KV    Male   34       RG270       Salaried           X1       19   \n",
       "4  TEASRWXV  Female   30       RG282       Salaried           X1       33   \n",
       "\n",
       "  Credit_Product  Avg_Account_Balance Is_Active  Is_Lead  \n",
       "0             No              1045696        No        0  \n",
       "1             No               581988        No        0  \n",
       "2             No              1484315       Yes        0  \n",
       "3             No               470454        No        0  \n",
       "4             No               886787        No        0  "
      ]
     },
     "execution_count": 2,
     "metadata": {},
     "output_type": "execute_result"
    }
   ],
   "source": [
    "df = pd.read_csv(\"D:/Desktop/train_s3TEQDk.csv\")\n",
    "df.head()"
   ]
  },
  {
   "cell_type": "code",
   "execution_count": 3,
   "metadata": {},
   "outputs": [
    {
     "data": {
      "text/html": [
       "<div>\n",
       "<style scoped>\n",
       "    .dataframe tbody tr th:only-of-type {\n",
       "        vertical-align: middle;\n",
       "    }\n",
       "\n",
       "    .dataframe tbody tr th {\n",
       "        vertical-align: top;\n",
       "    }\n",
       "\n",
       "    .dataframe thead th {\n",
       "        text-align: right;\n",
       "    }\n",
       "</style>\n",
       "<table border=\"1\" class=\"dataframe\">\n",
       "  <thead>\n",
       "    <tr style=\"text-align: right;\">\n",
       "      <th></th>\n",
       "      <th>Age</th>\n",
       "      <th>Vintage</th>\n",
       "      <th>Avg_Account_Balance</th>\n",
       "      <th>Is_Lead</th>\n",
       "    </tr>\n",
       "  </thead>\n",
       "  <tbody>\n",
       "    <tr>\n",
       "      <th>count</th>\n",
       "      <td>245725.000000</td>\n",
       "      <td>245725.000000</td>\n",
       "      <td>2.457250e+05</td>\n",
       "      <td>245725.000000</td>\n",
       "    </tr>\n",
       "    <tr>\n",
       "      <th>mean</th>\n",
       "      <td>43.856307</td>\n",
       "      <td>46.959141</td>\n",
       "      <td>1.128403e+06</td>\n",
       "      <td>0.237208</td>\n",
       "    </tr>\n",
       "    <tr>\n",
       "      <th>std</th>\n",
       "      <td>14.828672</td>\n",
       "      <td>32.353136</td>\n",
       "      <td>8.529364e+05</td>\n",
       "      <td>0.425372</td>\n",
       "    </tr>\n",
       "    <tr>\n",
       "      <th>min</th>\n",
       "      <td>23.000000</td>\n",
       "      <td>7.000000</td>\n",
       "      <td>2.079000e+04</td>\n",
       "      <td>0.000000</td>\n",
       "    </tr>\n",
       "    <tr>\n",
       "      <th>25%</th>\n",
       "      <td>30.000000</td>\n",
       "      <td>20.000000</td>\n",
       "      <td>6.043100e+05</td>\n",
       "      <td>0.000000</td>\n",
       "    </tr>\n",
       "    <tr>\n",
       "      <th>50%</th>\n",
       "      <td>43.000000</td>\n",
       "      <td>32.000000</td>\n",
       "      <td>8.946010e+05</td>\n",
       "      <td>0.000000</td>\n",
       "    </tr>\n",
       "    <tr>\n",
       "      <th>75%</th>\n",
       "      <td>54.000000</td>\n",
       "      <td>73.000000</td>\n",
       "      <td>1.366666e+06</td>\n",
       "      <td>0.000000</td>\n",
       "    </tr>\n",
       "    <tr>\n",
       "      <th>max</th>\n",
       "      <td>85.000000</td>\n",
       "      <td>135.000000</td>\n",
       "      <td>1.035201e+07</td>\n",
       "      <td>1.000000</td>\n",
       "    </tr>\n",
       "  </tbody>\n",
       "</table>\n",
       "</div>"
      ],
      "text/plain": [
       "                 Age        Vintage  Avg_Account_Balance        Is_Lead\n",
       "count  245725.000000  245725.000000         2.457250e+05  245725.000000\n",
       "mean       43.856307      46.959141         1.128403e+06       0.237208\n",
       "std        14.828672      32.353136         8.529364e+05       0.425372\n",
       "min        23.000000       7.000000         2.079000e+04       0.000000\n",
       "25%        30.000000      20.000000         6.043100e+05       0.000000\n",
       "50%        43.000000      32.000000         8.946010e+05       0.000000\n",
       "75%        54.000000      73.000000         1.366666e+06       0.000000\n",
       "max        85.000000     135.000000         1.035201e+07       1.000000"
      ]
     },
     "execution_count": 3,
     "metadata": {},
     "output_type": "execute_result"
    }
   ],
   "source": [
    "df.describe()"
   ]
  },
  {
   "cell_type": "code",
   "execution_count": 4,
   "metadata": {},
   "outputs": [
    {
     "name": "stdout",
     "output_type": "stream",
     "text": [
      "<class 'pandas.core.frame.DataFrame'>\n",
      "RangeIndex: 245725 entries, 0 to 245724\n",
      "Data columns (total 11 columns):\n",
      " #   Column               Non-Null Count   Dtype \n",
      "---  ------               --------------   ----- \n",
      " 0   ID                   245725 non-null  object\n",
      " 1   Gender               245725 non-null  object\n",
      " 2   Age                  245725 non-null  int64 \n",
      " 3   Region_Code          245725 non-null  object\n",
      " 4   Occupation           245725 non-null  object\n",
      " 5   Channel_Code         245725 non-null  object\n",
      " 6   Vintage              245725 non-null  int64 \n",
      " 7   Credit_Product       216400 non-null  object\n",
      " 8   Avg_Account_Balance  245725 non-null  int64 \n",
      " 9   Is_Active            245725 non-null  object\n",
      " 10  Is_Lead              245725 non-null  int64 \n",
      "dtypes: int64(4), object(7)\n",
      "memory usage: 20.6+ MB\n"
     ]
    }
   ],
   "source": [
    "df.info()"
   ]
  },
  {
   "cell_type": "code",
   "execution_count": 5,
   "metadata": {},
   "outputs": [
    {
     "data": {
      "text/plain": [
       "(245725, 11)"
      ]
     },
     "execution_count": 5,
     "metadata": {},
     "output_type": "execute_result"
    }
   ],
   "source": [
    "df.shape"
   ]
  },
  {
   "cell_type": "markdown",
   "metadata": {},
   "source": [
    "# Preprocessing the dataset"
   ]
  },
  {
   "cell_type": "code",
   "execution_count": 6,
   "metadata": {},
   "outputs": [
    {
     "data": {
      "text/plain": [
       "ID                         0\n",
       "Gender                     0\n",
       "Age                        0\n",
       "Region_Code                0\n",
       "Occupation                 0\n",
       "Channel_Code               0\n",
       "Vintage                    0\n",
       "Credit_Product         29325\n",
       "Avg_Account_Balance        0\n",
       "Is_Active                  0\n",
       "Is_Lead                    0\n",
       "dtype: int64"
      ]
     },
     "execution_count": 6,
     "metadata": {},
     "output_type": "execute_result"
    }
   ],
   "source": [
    "# find the null values\n",
    "df.isnull().sum()"
   ]
  },
  {
   "cell_type": "code",
   "execution_count": 7,
   "metadata": {},
   "outputs": [
    {
     "data": {
      "text/plain": [
       "0.11934072642181301"
      ]
     },
     "execution_count": 7,
     "metadata": {},
     "output_type": "execute_result"
    }
   ],
   "source": [
    " 29325/245725 #11% MISSING VALUE IN CREDIT PRODUCT , NEED TO BE TAKEN CARE\n"
   ]
  },
  {
   "cell_type": "code",
   "execution_count": 8,
   "metadata": {},
   "outputs": [],
   "source": [
    "# filling a null values using fillna() # replaced it with no information, \n",
    "\n",
    "df[\"Credit_Product\"].fillna(\"No info\", inplace = True) \n",
    "  "
   ]
  },
  {
   "cell_type": "code",
   "execution_count": 9,
   "metadata": {},
   "outputs": [
    {
     "data": {
      "text/plain": [
       "ID                     245725\n",
       "Gender                      2\n",
       "Age                        63\n",
       "Region_Code                35\n",
       "Occupation                  4\n",
       "Channel_Code                4\n",
       "Vintage                    66\n",
       "Credit_Product              3\n",
       "Avg_Account_Balance    135292\n",
       "Is_Active                   2\n",
       "Is_Lead                     2\n",
       "dtype: int64"
      ]
     },
     "execution_count": 9,
     "metadata": {},
     "output_type": "execute_result"
    }
   ],
   "source": [
    "# check unique values in dataset\n",
    "df.apply(lambda x: len(x.unique()))"
   ]
  },
  {
   "cell_type": "code",
   "execution_count": 10,
   "metadata": {},
   "outputs": [],
   "source": [
    "#df.drop('ID',\n",
    " # axis='columns', inplace=True)"
   ]
  },
  {
   "cell_type": "markdown",
   "metadata": {},
   "source": [
    "# Exploratory Data Analysis"
   ]
  },
  {
   "cell_type": "code",
   "execution_count": 11,
   "metadata": {},
   "outputs": [
    {
     "name": "stdout",
     "output_type": "stream",
     "text": [
      "----------------------------------------ID---------------------------------------- - "
     ]
    },
    {
     "data": {
      "text/plain": [
       "97XFLO8W    1\n",
       "KNJPMTS2    1\n",
       "7EJH6YZB    1\n",
       "DLHAS3KG    1\n",
       "3KYXHJNY    1\n",
       "           ..\n",
       "ZFNYWV7S    1\n",
       "J9SGYRP6    1\n",
       "KIXEFEU8    1\n",
       "F5MCNUUJ    1\n",
       "OHRP2OXG    1\n",
       "Name: ID, Length: 100, dtype: int64"
      ]
     },
     "metadata": {},
     "output_type": "display_data"
    },
    {
     "name": "stdout",
     "output_type": "stream",
     "text": [
      "----------------------------------------Gender---------------------------------------- - "
     ]
    },
    {
     "data": {
      "text/plain": [
       "Male      134197\n",
       "Female    111528\n",
       "Name: Gender, dtype: int64"
      ]
     },
     "metadata": {},
     "output_type": "display_data"
    },
    {
     "name": "stdout",
     "output_type": "stream",
     "text": [
      "----------------------------------------Age---------------------------------------- - "
     ]
    },
    {
     "data": {
      "text/plain": [
       "28    14533\n",
       "29    13284\n",
       "27    13005\n",
       "30    11066\n",
       "26     9039\n",
       "      ...  \n",
       "82      749\n",
       "83      694\n",
       "84      624\n",
       "85      604\n",
       "23        1\n",
       "Name: Age, Length: 63, dtype: int64"
      ]
     },
     "metadata": {},
     "output_type": "display_data"
    },
    {
     "name": "stdout",
     "output_type": "stream",
     "text": [
      "----------------------------------------Region_Code---------------------------------------- - "
     ]
    },
    {
     "data": {
      "text/plain": [
       "RG268    35934\n",
       "RG283    29416\n",
       "RG254    26840\n",
       "RG284    19320\n",
       "RG277    12826\n",
       "RG280    12775\n",
       "RG269     7863\n",
       "RG270     7720\n",
       "RG261     7633\n",
       "RG257     6101\n",
       "RG251     5950\n",
       "RG282     5829\n",
       "RG274     5286\n",
       "RG272     5252\n",
       "RG281     5093\n",
       "RG273     4497\n",
       "RG252     4286\n",
       "RG279     3976\n",
       "RG263     3687\n",
       "RG275     3245\n",
       "RG260     3110\n",
       "RG256     2847\n",
       "RG264     2793\n",
       "RG276     2764\n",
       "RG259     2586\n",
       "RG250     2496\n",
       "RG255     2018\n",
       "RG258     1951\n",
       "RG253     1858\n",
       "RG278     1822\n",
       "RG262     1788\n",
       "RG266     1578\n",
       "RG265     1546\n",
       "RG271     1542\n",
       "RG267     1497\n",
       "Name: Region_Code, dtype: int64"
      ]
     },
     "metadata": {},
     "output_type": "display_data"
    },
    {
     "name": "stdout",
     "output_type": "stream",
     "text": [
      "----------------------------------------Occupation---------------------------------------- - "
     ]
    },
    {
     "data": {
      "text/plain": [
       "Self_Employed    100886\n",
       "Salaried          71999\n",
       "Other             70173\n",
       "Entrepreneur       2667\n",
       "Name: Occupation, dtype: int64"
      ]
     },
     "metadata": {},
     "output_type": "display_data"
    },
    {
     "name": "stdout",
     "output_type": "stream",
     "text": [
      "----------------------------------------Channel_Code---------------------------------------- - "
     ]
    },
    {
     "data": {
      "text/plain": [
       "X1    103718\n",
       "X3     68712\n",
       "X2     67726\n",
       "X4      5569\n",
       "Name: Channel_Code, dtype: int64"
      ]
     },
     "metadata": {},
     "output_type": "display_data"
    },
    {
     "name": "stdout",
     "output_type": "stream",
     "text": [
      "----------------------------------------Vintage---------------------------------------- - "
     ]
    },
    {
     "data": {
      "text/plain": [
       "13     12338\n",
       "21     12277\n",
       "14     12267\n",
       "15     12242\n",
       "19     12212\n",
       "       ...  \n",
       "128      501\n",
       "129      499\n",
       "135       19\n",
       "133       18\n",
       "134       14\n",
       "Name: Vintage, Length: 66, dtype: int64"
      ]
     },
     "metadata": {},
     "output_type": "display_data"
    },
    {
     "name": "stdout",
     "output_type": "stream",
     "text": [
      "----------------------------------------Credit_Product---------------------------------------- - "
     ]
    },
    {
     "data": {
      "text/plain": [
       "No         144357\n",
       "Yes         72043\n",
       "No info     29325\n",
       "Name: Credit_Product, dtype: int64"
      ]
     },
     "metadata": {},
     "output_type": "display_data"
    },
    {
     "name": "stdout",
     "output_type": "stream",
     "text": [
      "----------------------------------------Avg_Account_Balance---------------------------------------- - "
     ]
    },
    {
     "data": {
      "text/plain": [
       "4022185    127\n",
       "1611273     35\n",
       "4126262     33\n",
       "1142030     32\n",
       "936814      31\n",
       "          ... \n",
       "2519785     10\n",
       "1324150     10\n",
       "1308273     10\n",
       "1170207     10\n",
       "714518      10\n",
       "Name: Avg_Account_Balance, Length: 100, dtype: int64"
      ]
     },
     "metadata": {},
     "output_type": "display_data"
    },
    {
     "name": "stdout",
     "output_type": "stream",
     "text": [
      "----------------------------------------Is_Active---------------------------------------- - "
     ]
    },
    {
     "data": {
      "text/plain": [
       "No     150290\n",
       "Yes     95435\n",
       "Name: Is_Active, dtype: int64"
      ]
     },
     "metadata": {},
     "output_type": "display_data"
    },
    {
     "name": "stdout",
     "output_type": "stream",
     "text": [
      "----------------------------------------Is_Lead---------------------------------------- - "
     ]
    },
    {
     "data": {
      "text/plain": [
       "0    187437\n",
       "1     58288\n",
       "Name: Is_Lead, dtype: int64"
      ]
     },
     "metadata": {},
     "output_type": "display_data"
    }
   ],
   "source": [
    "# List value_counts on all columns\n",
    "for col in df.columns:\n",
    "    print('-' * 40 + col + '-' * 40 , end=' - ')\n",
    "    display(df[col].value_counts().head(100))"
   ]
  },
  {
   "cell_type": "markdown",
   "metadata": {},
   "source": [
    "# Visualizing Categorical Column"
   ]
  },
  {
   "cell_type": "code",
   "execution_count": 12,
   "metadata": {},
   "outputs": [
    {
     "data": {
      "text/plain": [
       "<AxesSubplot:xlabel='Gender', ylabel='count'>"
      ]
     },
     "execution_count": 12,
     "metadata": {},
     "output_type": "execute_result"
    },
    {
     "data": {
      "image/png": "[encoded data removed]",
      "text/plain": [
       "<Figure size 432x288 with 1 Axes>"
      ]
     },
     "metadata": {
      "needs_background": "light"
     },
     "output_type": "display_data"
    }
   ],
   "source": [
    "#gender \n",
    "# categorical attributes visualization\n",
    "sns.countplot(df['Gender'])"
   ]
  },
  {
   "cell_type": "code",
   "execution_count": 13,
   "metadata": {},
   "outputs": [
    {
     "data": {
      "image/png": "[encoded data removed]",
      "text/plain": [
       "<Figure size 720x360 with 1 Axes>"
      ]
     },
     "metadata": {},
     "output_type": "display_data"
    }
   ],
   "source": [
    "#Region code\n",
    "plt.style.use('fivethirtyeight')\n",
    "import seaborn as sns\n",
    "plt.figure(figsize=(10,5))\n",
    "chart=sns.countplot(x ='Region_Code', data = df) \n",
    "chart.set_xticklabels(chart.get_xticklabels(), rotation=90);"
   ]
  },
  {
   "cell_type": "code",
   "execution_count": 14,
   "metadata": {},
   "outputs": [
    {
     "data": {
      "text/plain": [
       "<AxesSubplot:xlabel='Occupation', ylabel='count'>"
      ]
     },
     "execution_count": 14,
     "metadata": {},
     "output_type": "execute_result"
    },
    {
     "data": {
      "image/png": "[encoded data removed]",
      "text/plain": [
       "<Figure size 432x288 with 1 Axes>"
      ]
     },
     "metadata": {},
     "output_type": "display_data"
    }
   ],
   "source": [
    "#occupation\n",
    "sns.countplot(df['Occupation'])"
   ]
  },
  {
   "cell_type": "code",
   "execution_count": 15,
   "metadata": {},
   "outputs": [
    {
     "data": {
      "text/plain": [
       "<AxesSubplot:xlabel='Channel_Code', ylabel='count'>"
      ]
     },
     "execution_count": 15,
     "metadata": {},
     "output_type": "execute_result"
    },
    {
     "data": {
      "image/png": "[encoded data removed]",
      "text/plain": [
       "<Figure size 432x288 with 1 Axes>"
      ]
     },
     "metadata": {},
     "output_type": "display_data"
    }
   ],
   "source": [
    "#channel code\n",
    "sns.countplot(df['Channel_Code'])"
   ]
  },
  {
   "cell_type": "code",
   "execution_count": 16,
   "metadata": {},
   "outputs": [
    {
     "data": {
      "text/plain": [
       "<AxesSubplot:xlabel='Credit_Product', ylabel='count'>"
      ]
     },
     "execution_count": 16,
     "metadata": {},
     "output_type": "execute_result"
    },
    {
     "data": {
      "image/png": "[encoded data removed]",
      "text/plain": [
       "<Figure size 432x288 with 1 Axes>"
      ]
     },
     "metadata": {},
     "output_type": "display_data"
    }
   ],
   "source": [
    "# credit product\n",
    "sns.countplot(df['Credit_Product'])"
   ]
  },
  {
   "cell_type": "code",
   "execution_count": 17,
   "metadata": {},
   "outputs": [
    {
     "data": {
      "text/plain": [
       "<AxesSubplot:xlabel='Is_Active', ylabel='count'>"
      ]
     },
     "execution_count": 17,
     "metadata": {},
     "output_type": "execute_result"
    },
    {
     "data": {
      "image/png": "[encoded data removed]",
      "text/plain": [
       "<Figure size 432x288 with 1 Axes>"
      ]
     },
     "metadata": {},
     "output_type": "display_data"
    }
   ],
   "source": [
    "#is active\n",
    "sns.countplot(df['Is_Active'])"
   ]
  },
  {
   "cell_type": "markdown",
   "metadata": {},
   "source": [
    "# Visualizing Numerical Column"
   ]
  },
  {
   "cell_type": "code",
   "execution_count": 18,
   "metadata": {},
   "outputs": [
    {
     "data": {
      "text/plain": [
       "'\\nBest interest for cedit card found in young generation aged between 20-30 ,because likely they are aware of the benifits like \\nEveryday Purchases Rewards,Cash Back,Premium Travel Rewards\\nand moderate interest for the people age between 45-60 ,Entrepreneurs\\n'"
      ]
     },
     "execution_count": 18,
     "metadata": {},
     "output_type": "execute_result"
    },
    {
     "data": {
      "image/png": "[encoded data removed]",
      "text/plain": [
       "<Figure size 432x288 with 1 Axes>"
      ]
     },
     "metadata": {},
     "output_type": "display_data"
    }
   ],
   "source": [
    "#Age\n",
    "sns.distplot(df['Age'])\n",
    "'''\n",
    "Best interest for cedit card found in young generation aged between 20-30 ,because likely they are aware of the benifits like \n",
    "Everyday Purchases Rewards,Cash Back,Premium Travel Rewards\n",
    "and moderate interest for the people age between 45-60 ,Entrepreneurs\n",
    "'''"
   ]
  },
  {
   "cell_type": "code",
   "execution_count": 19,
   "metadata": {},
   "outputs": [
    {
     "data": {
      "text/plain": [
       "<AxesSubplot:>"
      ]
     },
     "execution_count": 19,
     "metadata": {},
     "output_type": "execute_result"
    },
    {
     "data": {
      "image/png": "[encoded data removed]",
      "text/plain": [
       "<Figure size 432x288 with 1 Axes>"
      ]
     },
     "metadata": {},
     "output_type": "display_data"
    }
   ],
   "source": [
    "df['Age'].hist(bins=50)"
   ]
  },
  {
   "cell_type": "code",
   "execution_count": 20,
   "metadata": {},
   "outputs": [
    {
     "data": {
      "image/png": "[encoded data removed]",
      "text/plain": [
       "<Figure size 432x288 with 1 Axes>"
      ]
     },
     "metadata": {},
     "output_type": "display_data"
    }
   ],
   "source": [
    "data1=df.iloc[:,7]\n",
    "\n",
    "plt.boxplot(df.Age,0,'rs',0);"
   ]
  },
  {
   "cell_type": "code",
   "execution_count": 21,
   "metadata": {},
   "outputs": [
    {
     "data": {
      "text/plain": [
       "<AxesSubplot:xlabel='Vintage', ylabel='Density'>"
      ]
     },
     "execution_count": 21,
     "metadata": {},
     "output_type": "execute_result"
    },
    {
     "data": {
      "image/png": "[encoded data removed]",
      "text/plain": [
       "<Figure size 432x288 with 1 Axes>"
      ]
     },
     "metadata": {},
     "output_type": "display_data"
    }
   ],
   "source": [
    "#Vintage\n",
    "sns.distplot(df['Vintage'])\n"
   ]
  },
  {
   "cell_type": "code",
   "execution_count": 22,
   "metadata": {},
   "outputs": [
    {
     "data": {
      "text/plain": [
       "<AxesSubplot:>"
      ]
     },
     "execution_count": 22,
     "metadata": {},
     "output_type": "execute_result"
    },
    {
     "data": {
      "image/png": "[encoded data removed]",
      "text/plain": [
       "<Figure size 432x288 with 1 Axes>"
      ]
     },
     "metadata": {},
     "output_type": "display_data"
    }
   ],
   "source": [
    "df['Vintage'].hist(bins=50)"
   ]
  },
  {
   "cell_type": "code",
   "execution_count": 23,
   "metadata": {},
   "outputs": [
    {
     "data": {
      "image/png": "[encoded data removed]",
      "text/plain": [
       "<Figure size 432x288 with 1 Axes>"
      ]
     },
     "metadata": {},
     "output_type": "display_data"
    }
   ],
   "source": [
    "dat21=df.iloc[:,7]\n",
    "\n",
    "plt.boxplot(df.Vintage,0,'rs',0);"
   ]
  },
  {
   "cell_type": "code",
   "execution_count": 24,
   "metadata": {},
   "outputs": [
    {
     "data": {
      "text/plain": [
       "<AxesSubplot:xlabel='Avg_Account_Balance', ylabel='Density'>"
      ]
     },
     "execution_count": 24,
     "metadata": {},
     "output_type": "execute_result"
    },
    {
     "data": {
      "image/png": "[encoded data removed]",
      "text/plain": [
       "<Figure size 432x288 with 1 Axes>"
      ]
     },
     "metadata": {},
     "output_type": "display_data"
    }
   ],
   "source": [
    "#Avg Account Balance\n",
    "sns.distplot(df['Avg_Account_Balance'])"
   ]
  },
  {
   "cell_type": "code",
   "execution_count": 25,
   "metadata": {},
   "outputs": [
    {
     "data": {
      "text/plain": [
       "<AxesSubplot:>"
      ]
     },
     "execution_count": 25,
     "metadata": {},
     "output_type": "execute_result"
    },
    {
     "data": {
      "image/png": "[encoded data removed]",
      "text/plain": [
       "<Figure size 432x288 with 1 Axes>"
      ]
     },
     "metadata": {},
     "output_type": "display_data"
    }
   ],
   "source": [
    "df['Avg_Account_Balance'].hist(bins=50)"
   ]
  },
  {
   "cell_type": "code",
   "execution_count": 26,
   "metadata": {},
   "outputs": [
    {
     "data": {
      "image/png": "[encoded data removed]",
      "text/plain": [
       "<Figure size 432x288 with 1 Axes>"
      ]
     },
     "metadata": {},
     "output_type": "display_data"
    }
   ],
   "source": [
    "data3=df.iloc[:,7]\n",
    "\n",
    "plt.boxplot(df.Avg_Account_Balance,0,'rs',0);"
   ]
  },
  {
   "cell_type": "code",
   "execution_count": 27,
   "metadata": {},
   "outputs": [
    {
     "name": "stdout",
     "output_type": "stream",
     "text": [
      "Q1 25 percentile of the given data is,  604310.0\n",
      "Q1 50 percentile of the given data is,  894601.0\n",
      "Q1 75 percentile of the given data is,  1366666.0\n",
      "Interquartile range is 762356.0\n",
      "low_limit is -539224.0\n",
      "up_limit is 2510200.0\n"
     ]
    }
   ],
   "source": [
    "#________outliers\n",
    "Q1 = np.percentile(df.Avg_Account_Balance, 25, interpolation = 'midpoint')  \n",
    "Q2 = np.percentile(df.Avg_Account_Balance, 50, interpolation = 'midpoint')  \n",
    "Q3 = np.percentile(df.Avg_Account_Balance, 75, interpolation = 'midpoint')   \n",
    "print('Q1 25 percentile of the given data is, ', Q1) \n",
    "print('Q1 50 percentile of the given data is, ', Q2) \n",
    "print('Q1 75 percentile of the given data is, ', Q3)   \n",
    "IQR = Q3 - Q1  \n",
    "print('Interquartile range is', IQR) \n",
    "\n",
    "low_lim = Q1 - 1.5 * IQR \n",
    "up_lim = Q3 + 1.5 * IQR \n",
    "print('low_limit is', low_lim) \n",
    "print('up_limit is', up_lim)"
   ]
  },
  {
   "cell_type": "code",
   "execution_count": 28,
   "metadata": {},
   "outputs": [
    {
     "data": {
      "text/plain": [
       "14612"
      ]
     },
     "execution_count": 28,
     "metadata": {},
     "output_type": "execute_result"
    }
   ],
   "source": [
    "# anything q3 + 1.5*iqr is outlier on higher side\n",
    "#_______counting outliers\n",
    "len(df.Avg_Account_Balance[df.Avg_Account_Balance >2510200 ])"
   ]
  },
  {
   "cell_type": "code",
   "execution_count": 29,
   "metadata": {},
   "outputs": [
    {
     "data": {
      "text/plain": [
       "0.05946484891647166"
      ]
     },
     "execution_count": 29,
     "metadata": {},
     "output_type": "execute_result"
    }
   ],
   "source": [
    "14612/245725"
   ]
  },
  {
   "cell_type": "code",
   "execution_count": 30,
   "metadata": {},
   "outputs": [],
   "source": [
    "df['log_Avg_Account_Balance'] = np.log2(df['Avg_Account_Balance'])"
   ]
  },
  {
   "cell_type": "code",
   "execution_count": 31,
   "metadata": {},
   "outputs": [],
   "source": [
    "#df['log_Avg_Account_Balance'] = df['log_Avg_Account_Balance'].astype(int) "
   ]
  },
  {
   "cell_type": "code",
   "execution_count": 32,
   "metadata": {},
   "outputs": [
    {
     "name": "stdout",
     "output_type": "stream",
     "text": [
      "Q1 25 percentile of the given data is,  19.20492929009849\n",
      "Q1 50 percentile of the given data is,  19.770884845448936\n",
      "Q1 75 percentile of the given data is,  20.38222927457989\n",
      "Interquartile range is 1.1772999844813974\n",
      "low_limit is 17.438979313376393\n",
      "up_limit is 22.148179251301983\n"
     ]
    }
   ],
   "source": [
    "#________outliers\n",
    "Q1 = np.percentile(df.log_Avg_Account_Balance, 25, interpolation = 'midpoint')  \n",
    "Q2 = np.percentile(df.log_Avg_Account_Balance, 50, interpolation = 'midpoint')  \n",
    "Q3 = np.percentile(df.log_Avg_Account_Balance, 75, interpolation = 'midpoint')   \n",
    "print('Q1 25 percentile of the given data is, ', Q1) \n",
    "print('Q1 50 percentile of the given data is, ', Q2) \n",
    "print('Q1 75 percentile of the given data is, ', Q3)   \n",
    "IQR = Q3 - Q1  \n",
    "print('Interquartile range is', IQR) \n",
    "\n",
    "low_lim = Q1 - 1.5 * IQR \n",
    "up_lim = Q3 + 1.5 * IQR \n",
    "print('low_limit is', low_lim) \n",
    "print('up_limit is', up_lim)"
   ]
  },
  {
   "cell_type": "code",
   "execution_count": 33,
   "metadata": {},
   "outputs": [
    {
     "data": {
      "text/plain": [
       "23059"
      ]
     },
     "execution_count": 33,
     "metadata": {},
     "output_type": "execute_result"
    }
   ],
   "source": [
    "# anything q3 + 1.5*iqr is outlier on higher side\n",
    "#_______counting outliers\n",
    "len(df.log_Avg_Account_Balance[df.log_Avg_Account_Balance >21 ])"
   ]
  },
  {
   "cell_type": "code",
   "execution_count": 34,
   "metadata": {},
   "outputs": [
    {
     "data": {
      "text/plain": [
       "0.012461084545732018"
      ]
     },
     "execution_count": 34,
     "metadata": {},
     "output_type": "execute_result"
    }
   ],
   "source": [
    "3062/245725       #1.2% outliers can be removed "
   ]
  },
  {
   "cell_type": "code",
   "execution_count": 35,
   "metadata": {},
   "outputs": [
    {
     "name": "stdout",
     "output_type": "stream",
     "text": [
      "<class 'pandas.core.frame.DataFrame'>\n",
      "Int64Index: 245605 entries, 0 to 245724\n",
      "Data columns (total 12 columns):\n",
      " #   Column                   Non-Null Count   Dtype  \n",
      "---  ------                   --------------   -----  \n",
      " 0   ID                       245605 non-null  object \n",
      " 1   Gender                   245605 non-null  object \n",
      " 2   Age                      245605 non-null  int64  \n",
      " 3   Region_Code              245605 non-null  object \n",
      " 4   Occupation               245605 non-null  object \n",
      " 5   Channel_Code             245605 non-null  object \n",
      " 6   Vintage                  245605 non-null  int64  \n",
      " 7   Credit_Product           245605 non-null  object \n",
      " 8   Avg_Account_Balance      245605 non-null  int64  \n",
      " 9   Is_Active                245605 non-null  object \n",
      " 10  Is_Lead                  245605 non-null  int64  \n",
      " 11  log_Avg_Account_Balance  245605 non-null  float64\n",
      "dtypes: float64(1), int64(4), object(7)\n",
      "memory usage: 24.4+ MB\n"
     ]
    },
    {
     "data": {
      "text/plain": [
       "242663"
      ]
     },
     "execution_count": 35,
     "metadata": {},
     "output_type": "execute_result"
    }
   ],
   "source": [
    "# ____________let's remove outliers( by creating new df for required range)\n",
    "df1 = df[df.log_Avg_Account_Balance <= 23] \n",
    "df1.info() #242663 ; \n",
    "245725-3062 \n"
   ]
  },
  {
   "cell_type": "code",
   "execution_count": 36,
   "metadata": {},
   "outputs": [
    {
     "data": {
      "text/plain": [
       "'Log transformations\\xa0are often recommended for skewed data, \\nsuch as monetary measures or certain biological and demographic measures.\\nLog transforming\\xa0data usually has the effect of spreading out clumps of data\\nand bringing together spread-out data.\\n'"
      ]
     },
     "execution_count": 36,
     "metadata": {},
     "output_type": "execute_result"
    },
    {
     "data": {
      "image/png": "[encoded data removed]",
      "text/plain": [
       "<Figure size 432x288 with 1 Axes>"
      ]
     },
     "metadata": {},
     "output_type": "display_data"
    }
   ],
   "source": [
    "#Avg Account Balance\n",
    "sns.distplot(df['log_Avg_Account_Balance'])\n",
    "\n",
    "'''Log transformations are often recommended for skewed data, \n",
    "such as monetary measures or certain biological and demographic measures.\n",
    "Log transforming data usually has the effect of spreading out clumps of data\n",
    "and bringing together spread-out data.\n",
    "'''"
   ]
  },
  {
   "cell_type": "markdown",
   "metadata": {},
   "source": [
    "# Exploratory Data Analysis Part 2"
   ]
  },
  {
   "cell_type": "code",
   "execution_count": 37,
   "metadata": {},
   "outputs": [
    {
     "data": {
      "text/plain": [
       "Index(['ID', 'Gender', 'Age', 'Region_Code', 'Occupation', 'Channel_Code',\n",
       "       'Vintage', 'Credit_Product', 'Avg_Account_Balance', 'Is_Active',\n",
       "       'Is_Lead', 'log_Avg_Account_Balance'],\n",
       "      dtype='object')"
      ]
     },
     "execution_count": 37,
     "metadata": {},
     "output_type": "execute_result"
    }
   ],
   "source": [
    "df.columns"
   ]
  },
  {
   "cell_type": "code",
   "execution_count": 38,
   "metadata": {},
   "outputs": [
    {
     "data": {
      "text/plain": [
       "<AxesSubplot:xlabel='Gender', ylabel='count'>"
      ]
     },
     "execution_count": 38,
     "metadata": {},
     "output_type": "execute_result"
    },
    {
     "data": {
      "image/png": "[encoded data removed]",
      "text/plain": [
       "<Figure size 936x360 with 1 Axes>"
      ]
     },
     "metadata": {},
     "output_type": "display_data"
    }
   ],
   "source": [
    "plt.figure(figsize=(13,5))\n",
    "sns.countplot(x='Gender',hue='Is_Lead',data= df)\n"
   ]
  },
  {
   "cell_type": "code",
   "execution_count": 39,
   "metadata": {},
   "outputs": [
    {
     "data": {
      "image/png": "[encoded data removed]",
      "text/plain": [
       "<Figure size 936x360 with 1 Axes>"
      ]
     },
     "metadata": {},
     "output_type": "display_data"
    }
   ],
   "source": [
    "plt.figure(figsize=(13,5))\n",
    "a=sns.countplot(x='Region_Code',hue='Is_Lead',data= df)\n",
    "a.set_xticklabels(chart.get_xticklabels(),rotation=90);\n",
    "#customers from region code RG268,RG283,RG254,RG284 are likely to be informed about the services provided by the bank."
   ]
  },
  {
   "cell_type": "code",
   "execution_count": 40,
   "metadata": {},
   "outputs": [
    {
     "data": {
      "text/plain": [
       "<AxesSubplot:xlabel='Occupation', ylabel='count'>"
      ]
     },
     "execution_count": 40,
     "metadata": {},
     "output_type": "execute_result"
    },
    {
     "data": {
      "image/png": "[encoded data removed]",
      "text/plain": [
       "<Figure size 936x360 with 1 Axes>"
      ]
     },
     "metadata": {},
     "output_type": "display_data"
    }
   ],
   "source": [
    "plt.figure(figsize=(13,5))\n",
    "sns.countplot(x='Occupation',hue='Is_Lead',data= df)\n",
    "#Here it is visible that self employed customers are more likely interested in having credit cards followed by salaried and others\n"
   ]
  },
  {
   "cell_type": "code",
   "execution_count": 41,
   "metadata": {},
   "outputs": [
    {
     "data": {
      "text/plain": [
       "<AxesSubplot:xlabel='Channel_Code', ylabel='count'>"
      ]
     },
     "execution_count": 41,
     "metadata": {},
     "output_type": "execute_result"
    },
    {
     "data": {
      "image/png": "[encoded data removed]",
      "text/plain": [
       "<Figure size 936x360 with 1 Axes>"
      ]
     },
     "metadata": {},
     "output_type": "display_data"
    }
   ],
   "source": [
    "plt.figure(figsize=(13,5))\n",
    "sns.countplot(x='Channel_Code',hue='Is_Lead',data= df)  \n",
    "#channel X1,X4 are not attracting much customers,so investment in these channels may not give much results."
   ]
  },
  {
   "cell_type": "code",
   "execution_count": 42,
   "metadata": {},
   "outputs": [
    {
     "data": {
      "text/plain": [
       "'Bank should focus specially in the area of Credit Product\\nsince their were some missing information that yet to filled.\\nThe risk of default is lower for the  Customers who have done  enough on-time payments .'"
      ]
     },
     "execution_count": 42,
     "metadata": {},
     "output_type": "execute_result"
    },
    {
     "data": {
      "image/png": "[encoded data removed]",
      "text/plain": [
       "<Figure size 936x360 with 1 Axes>"
      ]
     },
     "metadata": {},
     "output_type": "display_data"
    }
   ],
   "source": [
    "plt.figure(figsize=(13,5))\n",
    "sns.countplot(x='Credit_Product',hue='Is_Lead',data= df)\n",
    "'''Bank should focus specially in the area of Credit Product\n",
    "since their were some missing information that yet to filled.\n",
    "The risk of default is lower for the  Customers who have done  enough on-time payments .'''"
   ]
  },
  {
   "cell_type": "code",
   "execution_count": 43,
   "metadata": {},
   "outputs": [
    {
     "data": {
      "text/plain": [
       "<AxesSubplot:xlabel='Is_Active', ylabel='count'>"
      ]
     },
     "execution_count": 43,
     "metadata": {},
     "output_type": "execute_result"
    },
    {
     "data": {
      "image/png": "[encoded data removed]",
      "text/plain": [
       "<Figure size 936x360 with 1 Axes>"
      ]
     },
     "metadata": {},
     "output_type": "display_data"
    }
   ],
   "source": [
    "plt.figure(figsize=(13,5))\n",
    "sns.countplot(x='Is_Active',hue='Is_Lead',data= df)\n"
   ]
  },
  {
   "cell_type": "code",
   "execution_count": 44,
   "metadata": {},
   "outputs": [
    {
     "data": {
      "text/plain": [
       "<AxesSubplot:xlabel='Is_Lead', ylabel='count'>"
      ]
     },
     "execution_count": 44,
     "metadata": {},
     "output_type": "execute_result"
    },
    {
     "data": {
      "image/png": "[encoded data removed]",
      "text/plain": [
       "<Figure size 432x288 with 1 Axes>"
      ]
     },
     "metadata": {},
     "output_type": "display_data"
    }
   ],
   "source": [
    "sns.countplot(df['Is_Lead'])"
   ]
  },
  {
   "cell_type": "code",
   "execution_count": 45,
   "metadata": {},
   "outputs": [
    {
     "data": {
      "text/plain": [
       "0    187437\n",
       "1     58288\n",
       "Name: Is_Lead, dtype: int64"
      ]
     },
     "execution_count": 45,
     "metadata": {},
     "output_type": "execute_result"
    }
   ],
   "source": [
    "df.Is_Lead.value_counts()"
   ]
  },
  {
   "cell_type": "code",
   "execution_count": 46,
   "metadata": {},
   "outputs": [
    {
     "data": {
      "text/plain": [
       "76.27917387323227"
      ]
     },
     "execution_count": 46,
     "metadata": {},
     "output_type": "execute_result"
    }
   ],
   "source": [
    "18743700/df.shape[0] #we need to apply SMOTE "
   ]
  },
  {
   "cell_type": "markdown",
   "metadata": {},
   "source": [
    "# Coorelation Matrix"
   ]
  },
  {
   "cell_type": "code",
   "execution_count": 47,
   "metadata": {},
   "outputs": [
    {
     "data": {
      "text/plain": [
       "<AxesSubplot:>"
      ]
     },
     "execution_count": 47,
     "metadata": {},
     "output_type": "execute_result"
    },
    {
     "data": {
      "image/png": "[encoded data removed]",
      "text/plain": [
       "<Figure size 1080x720 with 2 Axes>"
      ]
     },
     "metadata": {},
     "output_type": "display_data"
    }
   ],
   "source": [
    "''''Highest correlation is between vintage and age , \n",
    " According to the dataset “Vintage” is the age of an item\n",
    " as it relates to the Months it was created .\n",
    "Explaining with they've been issued MBS( that have been seasoned)\n",
    "long enough ,and  enough on-time payments have been made, that lowers the risk of default'''\n",
    "corr = df.corr()\n",
    "plt.figure(figsize=(15,10))\n",
    "sns.heatmap(corr, annot = True, cmap=\"BuPu\")"
   ]
  },
  {
   "cell_type": "code",
   "execution_count": 48,
   "metadata": {},
   "outputs": [],
   "source": [
    "df_backup = df.copy()\n",
    "df =df_backup.copy()"
   ]
  },
  {
   "cell_type": "code",
   "execution_count": 49,
   "metadata": {},
   "outputs": [],
   "source": [
    "test_df=pd.read_csv('D:/Desktop/test_mSzZ8RL.csv')"
   ]
  },
  {
   "cell_type": "code",
   "execution_count": 50,
   "metadata": {},
   "outputs": [
    {
     "data": {
      "text/plain": [
       "(105312, 10)"
      ]
     },
     "execution_count": 50,
     "metadata": {},
     "output_type": "execute_result"
    }
   ],
   "source": [
    "test_df.shape"
   ]
  },
  {
   "cell_type": "code",
   "execution_count": 51,
   "metadata": {},
   "outputs": [],
   "source": [
    "#final_df=pd.concat([df,test_df],axis=0)"
   ]
  },
  {
   "cell_type": "code",
   "execution_count": 52,
   "metadata": {},
   "outputs": [
    {
     "data": {
      "text/plain": [
       "(245725, 12)"
      ]
     },
     "execution_count": 52,
     "metadata": {},
     "output_type": "execute_result"
    }
   ],
   "source": [
    "df.shape"
   ]
  },
  {
   "cell_type": "code",
   "execution_count": 53,
   "metadata": {},
   "outputs": [
    {
     "data": {
      "text/html": [
       "<div>\n",
       "<style scoped>\n",
       "    .dataframe tbody tr th:only-of-type {\n",
       "        vertical-align: middle;\n",
       "    }\n",
       "\n",
       "    .dataframe tbody tr th {\n",
       "        vertical-align: top;\n",
       "    }\n",
       "\n",
       "    .dataframe thead th {\n",
       "        text-align: right;\n",
       "    }\n",
       "</style>\n",
       "<table border=\"1\" class=\"dataframe\">\n",
       "  <thead>\n",
       "    <tr style=\"text-align: right;\">\n",
       "      <th></th>\n",
       "      <th>ID</th>\n",
       "      <th>Gender</th>\n",
       "      <th>Age</th>\n",
       "      <th>Region_Code</th>\n",
       "      <th>Occupation</th>\n",
       "      <th>Channel_Code</th>\n",
       "      <th>Vintage</th>\n",
       "      <th>Credit_Product</th>\n",
       "      <th>Avg_Account_Balance</th>\n",
       "      <th>Is_Active</th>\n",
       "      <th>Is_Lead</th>\n",
       "      <th>log_Avg_Account_Balance</th>\n",
       "    </tr>\n",
       "  </thead>\n",
       "  <tbody>\n",
       "    <tr>\n",
       "      <th>0</th>\n",
       "      <td>NNVBBKZB</td>\n",
       "      <td>Female</td>\n",
       "      <td>73</td>\n",
       "      <td>RG268</td>\n",
       "      <td>Other</td>\n",
       "      <td>X3</td>\n",
       "      <td>43</td>\n",
       "      <td>No</td>\n",
       "      <td>1045696</td>\n",
       "      <td>No</td>\n",
       "      <td>0</td>\n",
       "      <td>19.996032</td>\n",
       "    </tr>\n",
       "    <tr>\n",
       "      <th>1</th>\n",
       "      <td>IDD62UNG</td>\n",
       "      <td>Female</td>\n",
       "      <td>30</td>\n",
       "      <td>RG277</td>\n",
       "      <td>Salaried</td>\n",
       "      <td>X1</td>\n",
       "      <td>32</td>\n",
       "      <td>No</td>\n",
       "      <td>581988</td>\n",
       "      <td>No</td>\n",
       "      <td>0</td>\n",
       "      <td>19.150630</td>\n",
       "    </tr>\n",
       "    <tr>\n",
       "      <th>2</th>\n",
       "      <td>HD3DSEMC</td>\n",
       "      <td>Female</td>\n",
       "      <td>56</td>\n",
       "      <td>RG268</td>\n",
       "      <td>Self_Employed</td>\n",
       "      <td>X3</td>\n",
       "      <td>26</td>\n",
       "      <td>No</td>\n",
       "      <td>1484315</td>\n",
       "      <td>Yes</td>\n",
       "      <td>0</td>\n",
       "      <td>20.501366</td>\n",
       "    </tr>\n",
       "    <tr>\n",
       "      <th>3</th>\n",
       "      <td>BF3NC7KV</td>\n",
       "      <td>Male</td>\n",
       "      <td>34</td>\n",
       "      <td>RG270</td>\n",
       "      <td>Salaried</td>\n",
       "      <td>X1</td>\n",
       "      <td>19</td>\n",
       "      <td>No</td>\n",
       "      <td>470454</td>\n",
       "      <td>No</td>\n",
       "      <td>0</td>\n",
       "      <td>18.843694</td>\n",
       "    </tr>\n",
       "    <tr>\n",
       "      <th>4</th>\n",
       "      <td>TEASRWXV</td>\n",
       "      <td>Female</td>\n",
       "      <td>30</td>\n",
       "      <td>RG282</td>\n",
       "      <td>Salaried</td>\n",
       "      <td>X1</td>\n",
       "      <td>33</td>\n",
       "      <td>No</td>\n",
       "      <td>886787</td>\n",
       "      <td>No</td>\n",
       "      <td>0</td>\n",
       "      <td>19.758228</td>\n",
       "    </tr>\n",
       "    <tr>\n",
       "      <th>5</th>\n",
       "      <td>ACUTYTWS</td>\n",
       "      <td>Male</td>\n",
       "      <td>56</td>\n",
       "      <td>RG261</td>\n",
       "      <td>Self_Employed</td>\n",
       "      <td>X1</td>\n",
       "      <td>32</td>\n",
       "      <td>No</td>\n",
       "      <td>544163</td>\n",
       "      <td>Yes</td>\n",
       "      <td>0</td>\n",
       "      <td>19.053679</td>\n",
       "    </tr>\n",
       "    <tr>\n",
       "      <th>6</th>\n",
       "      <td>ETQCZFEJ</td>\n",
       "      <td>Male</td>\n",
       "      <td>62</td>\n",
       "      <td>RG282</td>\n",
       "      <td>Other</td>\n",
       "      <td>X3</td>\n",
       "      <td>20</td>\n",
       "      <td>No info</td>\n",
       "      <td>1056750</td>\n",
       "      <td>Yes</td>\n",
       "      <td>1</td>\n",
       "      <td>20.011203</td>\n",
       "    </tr>\n",
       "    <tr>\n",
       "      <th>7</th>\n",
       "      <td>JJNJUQMQ</td>\n",
       "      <td>Female</td>\n",
       "      <td>48</td>\n",
       "      <td>RG265</td>\n",
       "      <td>Self_Employed</td>\n",
       "      <td>X3</td>\n",
       "      <td>13</td>\n",
       "      <td>No</td>\n",
       "      <td>444724</td>\n",
       "      <td>Yes</td>\n",
       "      <td>0</td>\n",
       "      <td>18.762551</td>\n",
       "    </tr>\n",
       "    <tr>\n",
       "      <th>8</th>\n",
       "      <td>ZMQFYKCB</td>\n",
       "      <td>Female</td>\n",
       "      <td>40</td>\n",
       "      <td>RG283</td>\n",
       "      <td>Self_Employed</td>\n",
       "      <td>X2</td>\n",
       "      <td>38</td>\n",
       "      <td>No</td>\n",
       "      <td>1274284</td>\n",
       "      <td>No</td>\n",
       "      <td>0</td>\n",
       "      <td>20.281255</td>\n",
       "    </tr>\n",
       "    <tr>\n",
       "      <th>9</th>\n",
       "      <td>NVKTFBA2</td>\n",
       "      <td>Female</td>\n",
       "      <td>55</td>\n",
       "      <td>RG268</td>\n",
       "      <td>Self_Employed</td>\n",
       "      <td>X2</td>\n",
       "      <td>49</td>\n",
       "      <td>Yes</td>\n",
       "      <td>2014239</td>\n",
       "      <td>No</td>\n",
       "      <td>0</td>\n",
       "      <td>20.941803</td>\n",
       "    </tr>\n",
       "  </tbody>\n",
       "</table>\n",
       "</div>"
      ],
      "text/plain": [
       "         ID  Gender  Age Region_Code     Occupation Channel_Code  Vintage  \\\n",
       "0  NNVBBKZB  Female   73       RG268          Other           X3       43   \n",
       "1  IDD62UNG  Female   30       RG277       Salaried           X1       32   \n",
       "2  HD3DSEMC  Female   56       RG268  Self_Employed           X3       26   \n",
       "3  BF3NC7KV    Male   34       RG270       Salaried           X1       19   \n",
       "4  TEASRWXV  Female   30       RG282       Salaried           X1       33   \n",
       "5  ACUTYTWS    Male   56       RG261  Self_Employed           X1       32   \n",
       "6  ETQCZFEJ    Male   62       RG282          Other           X3       20   \n",
       "7  JJNJUQMQ  Female   48       RG265  Self_Employed           X3       13   \n",
       "8  ZMQFYKCB  Female   40       RG283  Self_Employed           X2       38   \n",
       "9  NVKTFBA2  Female   55       RG268  Self_Employed           X2       49   \n",
       "\n",
       "  Credit_Product  Avg_Account_Balance Is_Active  Is_Lead  \\\n",
       "0             No              1045696        No        0   \n",
       "1             No               581988        No        0   \n",
       "2             No              1484315       Yes        0   \n",
       "3             No               470454        No        0   \n",
       "4             No               886787        No        0   \n",
       "5             No               544163       Yes        0   \n",
       "6        No info              1056750       Yes        1   \n",
       "7             No               444724       Yes        0   \n",
       "8             No              1274284        No        0   \n",
       "9            Yes              2014239        No        0   \n",
       "\n",
       "   log_Avg_Account_Balance  \n",
       "0                19.996032  \n",
       "1                19.150630  \n",
       "2                20.501366  \n",
       "3                18.843694  \n",
       "4                19.758228  \n",
       "5                19.053679  \n",
       "6                20.011203  \n",
       "7                18.762551  \n",
       "8                20.281255  \n",
       "9                20.941803  "
      ]
     },
     "execution_count": 53,
     "metadata": {},
     "output_type": "execute_result"
    }
   ],
   "source": [
    "df.head(10)"
   ]
  },
  {
   "cell_type": "markdown",
   "metadata": {},
   "source": [
    "# Label Encoding"
   ]
  },
  {
   "cell_type": "code",
   "execution_count": 54,
   "metadata": {},
   "outputs": [],
   "source": [
    "from sklearn.preprocessing import LabelEncoder\n",
    "cols = [\"ID\",\"Gender\",\"Region_Code\",\"Credit_Product\",\"Occupation\",\"Channel_Code\",\"Is_Active\"]\n",
    "le = LabelEncoder()\n",
    "for col in cols:\n",
    "    df[col] = le.fit_transform(df[col])"
   ]
  },
  {
   "cell_type": "code",
   "execution_count": 55,
   "metadata": {},
   "outputs": [
    {
     "data": {
      "text/html": [
       "<div>\n",
       "<style scoped>\n",
       "    .dataframe tbody tr th:only-of-type {\n",
       "        vertical-align: middle;\n",
       "    }\n",
       "\n",
       "    .dataframe tbody tr th {\n",
       "        vertical-align: top;\n",
       "    }\n",
       "\n",
       "    .dataframe thead th {\n",
       "        text-align: right;\n",
       "    }\n",
       "</style>\n",
       "<table border=\"1\" class=\"dataframe\">\n",
       "  <thead>\n",
       "    <tr style=\"text-align: right;\">\n",
       "      <th></th>\n",
       "      <th>ID</th>\n",
       "      <th>Gender</th>\n",
       "      <th>Age</th>\n",
       "      <th>Region_Code</th>\n",
       "      <th>Occupation</th>\n",
       "      <th>Channel_Code</th>\n",
       "      <th>Vintage</th>\n",
       "      <th>Credit_Product</th>\n",
       "      <th>Avg_Account_Balance</th>\n",
       "      <th>Is_Active</th>\n",
       "      <th>Is_Lead</th>\n",
       "      <th>log_Avg_Account_Balance</th>\n",
       "    </tr>\n",
       "  </thead>\n",
       "  <tbody>\n",
       "    <tr>\n",
       "      <th>0</th>\n",
       "      <td>179194</td>\n",
       "      <td>0</td>\n",
       "      <td>73</td>\n",
       "      <td>18</td>\n",
       "      <td>1</td>\n",
       "      <td>2</td>\n",
       "      <td>43</td>\n",
       "      <td>0</td>\n",
       "      <td>1045696</td>\n",
       "      <td>0</td>\n",
       "      <td>0</td>\n",
       "      <td>19.996032</td>\n",
       "    </tr>\n",
       "    <tr>\n",
       "      <th>1</th>\n",
       "      <td>131013</td>\n",
       "      <td>0</td>\n",
       "      <td>30</td>\n",
       "      <td>27</td>\n",
       "      <td>2</td>\n",
       "      <td>0</td>\n",
       "      <td>32</td>\n",
       "      <td>0</td>\n",
       "      <td>581988</td>\n",
       "      <td>0</td>\n",
       "      <td>0</td>\n",
       "      <td>19.150630</td>\n",
       "    </tr>\n",
       "    <tr>\n",
       "      <th>2</th>\n",
       "      <td>121520</td>\n",
       "      <td>0</td>\n",
       "      <td>56</td>\n",
       "      <td>18</td>\n",
       "      <td>3</td>\n",
       "      <td>2</td>\n",
       "      <td>26</td>\n",
       "      <td>0</td>\n",
       "      <td>1484315</td>\n",
       "      <td>1</td>\n",
       "      <td>0</td>\n",
       "      <td>20.501366</td>\n",
       "    </tr>\n",
       "    <tr>\n",
       "      <th>3</th>\n",
       "      <td>57273</td>\n",
       "      <td>1</td>\n",
       "      <td>34</td>\n",
       "      <td>20</td>\n",
       "      <td>2</td>\n",
       "      <td>0</td>\n",
       "      <td>19</td>\n",
       "      <td>0</td>\n",
       "      <td>470454</td>\n",
       "      <td>0</td>\n",
       "      <td>0</td>\n",
       "      <td>18.843694</td>\n",
       "    </tr>\n",
       "    <tr>\n",
       "      <th>4</th>\n",
       "      <td>209602</td>\n",
       "      <td>0</td>\n",
       "      <td>30</td>\n",
       "      <td>32</td>\n",
       "      <td>2</td>\n",
       "      <td>0</td>\n",
       "      <td>33</td>\n",
       "      <td>0</td>\n",
       "      <td>886787</td>\n",
       "      <td>0</td>\n",
       "      <td>0</td>\n",
       "      <td>19.758228</td>\n",
       "    </tr>\n",
       "  </tbody>\n",
       "</table>\n",
       "</div>"
      ],
      "text/plain": [
       "       ID  Gender  Age  Region_Code  Occupation  Channel_Code  Vintage  \\\n",
       "0  179194       0   73           18           1             2       43   \n",
       "1  131013       0   30           27           2             0       32   \n",
       "2  121520       0   56           18           3             2       26   \n",
       "3   57273       1   34           20           2             0       19   \n",
       "4  209602       0   30           32           2             0       33   \n",
       "\n",
       "   Credit_Product  Avg_Account_Balance  Is_Active  Is_Lead  \\\n",
       "0               0              1045696          0        0   \n",
       "1               0               581988          0        0   \n",
       "2               0              1484315          1        0   \n",
       "3               0               470454          0        0   \n",
       "4               0               886787          0        0   \n",
       "\n",
       "   log_Avg_Account_Balance  \n",
       "0                19.996032  \n",
       "1                19.150630  \n",
       "2                20.501366  \n",
       "3                18.843694  \n",
       "4                19.758228  "
      ]
     },
     "execution_count": 55,
     "metadata": {},
     "output_type": "execute_result"
    }
   ],
   "source": [
    "df.head()"
   ]
  },
  {
   "cell_type": "code",
   "execution_count": 56,
   "metadata": {},
   "outputs": [
    {
     "data": {
      "text/plain": [
       "(245725, 12)"
      ]
     },
     "execution_count": 56,
     "metadata": {},
     "output_type": "execute_result"
    }
   ],
   "source": [
    "df.shape"
   ]
  },
  {
   "cell_type": "markdown",
   "metadata": {},
   "source": [
    "# Feature Scaling"
   ]
  },
  {
   "cell_type": "code",
   "execution_count": 57,
   "metadata": {},
   "outputs": [
    {
     "data": {
      "text/plain": [
       "11"
      ]
     },
     "execution_count": 57,
     "metadata": {},
     "output_type": "execute_result"
    }
   ],
   "source": [
    "scaling_feature=[feature for feature in df.columns if feature not in ['Is_Lead'] ]\n",
    "len(scaling_feature)"
   ]
  },
  {
   "cell_type": "code",
   "execution_count": 58,
   "metadata": {},
   "outputs": [
    {
     "data": {
      "text/plain": [
       "['ID',\n",
       " 'Gender',\n",
       " 'Age',\n",
       " 'Region_Code',\n",
       " 'Occupation',\n",
       " 'Channel_Code',\n",
       " 'Vintage',\n",
       " 'Credit_Product',\n",
       " 'Avg_Account_Balance',\n",
       " 'Is_Active',\n",
       " 'log_Avg_Account_Balance']"
      ]
     },
     "execution_count": 58,
     "metadata": {},
     "output_type": "execute_result"
    }
   ],
   "source": [
    "scaling_feature"
   ]
  },
  {
   "cell_type": "code",
   "execution_count": 59,
   "metadata": {},
   "outputs": [],
   "source": [
    "#Standarise the values of the variables to the same range\n",
    "feature_scale=[feature for feature in df.columns if feature not in ['Is_Lead']]\n",
    "\n",
    "from sklearn.preprocessing import MinMaxScaler\n",
    "scaler=MinMaxScaler()\n",
    "df[feature_scale] =scaler.fit_transform(df[feature_scale])    "
   ]
  },
  {
   "cell_type": "code",
   "execution_count": 60,
   "metadata": {},
   "outputs": [
    {
     "data": {
      "text/html": [
       "<div>\n",
       "<style scoped>\n",
       "    .dataframe tbody tr th:only-of-type {\n",
       "        vertical-align: middle;\n",
       "    }\n",
       "\n",
       "    .dataframe tbody tr th {\n",
       "        vertical-align: top;\n",
       "    }\n",
       "\n",
       "    .dataframe thead th {\n",
       "        text-align: right;\n",
       "    }\n",
       "</style>\n",
       "<table border=\"1\" class=\"dataframe\">\n",
       "  <thead>\n",
       "    <tr style=\"text-align: right;\">\n",
       "      <th></th>\n",
       "      <th>ID</th>\n",
       "      <th>Gender</th>\n",
       "      <th>Age</th>\n",
       "      <th>Region_Code</th>\n",
       "      <th>Occupation</th>\n",
       "      <th>Channel_Code</th>\n",
       "      <th>Vintage</th>\n",
       "      <th>Credit_Product</th>\n",
       "      <th>Avg_Account_Balance</th>\n",
       "      <th>Is_Active</th>\n",
       "      <th>Is_Lead</th>\n",
       "      <th>log_Avg_Account_Balance</th>\n",
       "    </tr>\n",
       "  </thead>\n",
       "  <tbody>\n",
       "    <tr>\n",
       "      <th>0</th>\n",
       "      <td>0.729249</td>\n",
       "      <td>0.0</td>\n",
       "      <td>0.806452</td>\n",
       "      <td>0.529412</td>\n",
       "      <td>0.333333</td>\n",
       "      <td>0.666667</td>\n",
       "      <td>0.281250</td>\n",
       "      <td>0.0</td>\n",
       "      <td>0.099205</td>\n",
       "      <td>0.0</td>\n",
       "      <td>0</td>\n",
       "      <td>0.630865</td>\n",
       "    </tr>\n",
       "    <tr>\n",
       "      <th>1</th>\n",
       "      <td>0.533171</td>\n",
       "      <td>0.0</td>\n",
       "      <td>0.112903</td>\n",
       "      <td>0.794118</td>\n",
       "      <td>0.666667</td>\n",
       "      <td>0.000000</td>\n",
       "      <td>0.195312</td>\n",
       "      <td>0.0</td>\n",
       "      <td>0.054321</td>\n",
       "      <td>0.0</td>\n",
       "      <td>0</td>\n",
       "      <td>0.536510</td>\n",
       "    </tr>\n",
       "    <tr>\n",
       "      <th>2</th>\n",
       "      <td>0.494539</td>\n",
       "      <td>0.0</td>\n",
       "      <td>0.532258</td>\n",
       "      <td>0.529412</td>\n",
       "      <td>1.000000</td>\n",
       "      <td>0.666667</td>\n",
       "      <td>0.148438</td>\n",
       "      <td>0.0</td>\n",
       "      <td>0.141660</td>\n",
       "      <td>1.0</td>\n",
       "      <td>0</td>\n",
       "      <td>0.687265</td>\n",
       "    </tr>\n",
       "    <tr>\n",
       "      <th>3</th>\n",
       "      <td>0.233079</td>\n",
       "      <td>1.0</td>\n",
       "      <td>0.177419</td>\n",
       "      <td>0.588235</td>\n",
       "      <td>0.666667</td>\n",
       "      <td>0.000000</td>\n",
       "      <td>0.093750</td>\n",
       "      <td>0.0</td>\n",
       "      <td>0.043525</td>\n",
       "      <td>0.0</td>\n",
       "      <td>0</td>\n",
       "      <td>0.502253</td>\n",
       "    </tr>\n",
       "    <tr>\n",
       "      <th>4</th>\n",
       "      <td>0.852998</td>\n",
       "      <td>0.0</td>\n",
       "      <td>0.112903</td>\n",
       "      <td>0.941176</td>\n",
       "      <td>0.666667</td>\n",
       "      <td>0.000000</td>\n",
       "      <td>0.203125</td>\n",
       "      <td>0.0</td>\n",
       "      <td>0.083823</td>\n",
       "      <td>0.0</td>\n",
       "      <td>0</td>\n",
       "      <td>0.604324</td>\n",
       "    </tr>\n",
       "    <tr>\n",
       "      <th>5</th>\n",
       "      <td>0.186241</td>\n",
       "      <td>1.0</td>\n",
       "      <td>0.532258</td>\n",
       "      <td>0.323529</td>\n",
       "      <td>1.000000</td>\n",
       "      <td>0.000000</td>\n",
       "      <td>0.195312</td>\n",
       "      <td>0.0</td>\n",
       "      <td>0.050659</td>\n",
       "      <td>1.0</td>\n",
       "      <td>0</td>\n",
       "      <td>0.525690</td>\n",
       "    </tr>\n",
       "    <tr>\n",
       "      <th>6</th>\n",
       "      <td>0.386454</td>\n",
       "      <td>1.0</td>\n",
       "      <td>0.629032</td>\n",
       "      <td>0.941176</td>\n",
       "      <td>0.333333</td>\n",
       "      <td>0.666667</td>\n",
       "      <td>0.101562</td>\n",
       "      <td>0.5</td>\n",
       "      <td>0.100275</td>\n",
       "      <td>1.0</td>\n",
       "      <td>1</td>\n",
       "      <td>0.632558</td>\n",
       "    </tr>\n",
       "    <tr>\n",
       "      <th>7</th>\n",
       "      <td>0.569134</td>\n",
       "      <td>0.0</td>\n",
       "      <td>0.403226</td>\n",
       "      <td>0.441176</td>\n",
       "      <td>1.000000</td>\n",
       "      <td>0.666667</td>\n",
       "      <td>0.046875</td>\n",
       "      <td>0.0</td>\n",
       "      <td>0.041034</td>\n",
       "      <td>1.0</td>\n",
       "      <td>0</td>\n",
       "      <td>0.493197</td>\n",
       "    </tr>\n",
       "    <tr>\n",
       "      <th>8</th>\n",
       "      <td>0.990261</td>\n",
       "      <td>0.0</td>\n",
       "      <td>0.274194</td>\n",
       "      <td>0.970588</td>\n",
       "      <td>1.000000</td>\n",
       "      <td>0.333333</td>\n",
       "      <td>0.242188</td>\n",
       "      <td>0.0</td>\n",
       "      <td>0.121331</td>\n",
       "      <td>0.0</td>\n",
       "      <td>0</td>\n",
       "      <td>0.662699</td>\n",
       "    </tr>\n",
       "    <tr>\n",
       "      <th>9</th>\n",
       "      <td>0.740139</td>\n",
       "      <td>0.0</td>\n",
       "      <td>0.516129</td>\n",
       "      <td>0.529412</td>\n",
       "      <td>1.000000</td>\n",
       "      <td>0.333333</td>\n",
       "      <td>0.328125</td>\n",
       "      <td>1.0</td>\n",
       "      <td>0.192954</td>\n",
       "      <td>0.0</td>\n",
       "      <td>0</td>\n",
       "      <td>0.736422</td>\n",
       "    </tr>\n",
       "  </tbody>\n",
       "</table>\n",
       "</div>"
      ],
      "text/plain": [
       "         ID  Gender       Age  Region_Code  Occupation  Channel_Code  \\\n",
       "0  0.729249     0.0  0.806452     0.529412    0.333333      0.666667   \n",
       "1  0.533171     0.0  0.112903     0.794118    0.666667      0.000000   \n",
       "2  0.494539     0.0  0.532258     0.529412    1.000000      0.666667   \n",
       "3  0.233079     1.0  0.177419     0.588235    0.666667      0.000000   \n",
       "4  0.852998     0.0  0.112903     0.941176    0.666667      0.000000   \n",
       "5  0.186241     1.0  0.532258     0.323529    1.000000      0.000000   \n",
       "6  0.386454     1.0  0.629032     0.941176    0.333333      0.666667   \n",
       "7  0.569134     0.0  0.403226     0.441176    1.000000      0.666667   \n",
       "8  0.990261     0.0  0.274194     0.970588    1.000000      0.333333   \n",
       "9  0.740139     0.0  0.516129     0.529412    1.000000      0.333333   \n",
       "\n",
       "    Vintage  Credit_Product  Avg_Account_Balance  Is_Active  Is_Lead  \\\n",
       "0  0.281250             0.0             0.099205        0.0        0   \n",
       "1  0.195312             0.0             0.054321        0.0        0   \n",
       "2  0.148438             0.0             0.141660        1.0        0   \n",
       "3  0.093750             0.0             0.043525        0.0        0   \n",
       "4  0.203125             0.0             0.083823        0.0        0   \n",
       "5  0.195312             0.0             0.050659        1.0        0   \n",
       "6  0.101562             0.5             0.100275        1.0        1   \n",
       "7  0.046875             0.0             0.041034        1.0        0   \n",
       "8  0.242188             0.0             0.121331        0.0        0   \n",
       "9  0.328125             1.0             0.192954        0.0        0   \n",
       "\n",
       "   log_Avg_Account_Balance  \n",
       "0                 0.630865  \n",
       "1                 0.536510  \n",
       "2                 0.687265  \n",
       "3                 0.502253  \n",
       "4                 0.604324  \n",
       "5                 0.525690  \n",
       "6                 0.632558  \n",
       "7                 0.493197  \n",
       "8                 0.662699  \n",
       "9                 0.736422  "
      ]
     },
     "execution_count": 60,
     "metadata": {},
     "output_type": "execute_result"
    }
   ],
   "source": [
    "df = pd.DataFrame(df)\n",
    "df.head(10)"
   ]
  },
  {
   "cell_type": "code",
   "execution_count": 61,
   "metadata": {},
   "outputs": [],
   "source": [
    "main_df=df.copy()"
   ]
  },
  {
   "cell_type": "code",
   "execution_count": 62,
   "metadata": {},
   "outputs": [
    {
     "data": {
      "text/plain": [
       "ID                         0\n",
       "Gender                     0\n",
       "Age                        0\n",
       "Region_Code                0\n",
       "Occupation                 0\n",
       "Channel_Code               0\n",
       "Vintage                    0\n",
       "Credit_Product             0\n",
       "Avg_Account_Balance        0\n",
       "Is_Active                  0\n",
       "Is_Lead                    0\n",
       "log_Avg_Account_Balance    0\n",
       "dtype: int64"
      ]
     },
     "execution_count": 62,
     "metadata": {},
     "output_type": "execute_result"
    }
   ],
   "source": [
    "df.isnull().sum()"
   ]
  },
  {
   "cell_type": "markdown",
   "metadata": {},
   "source": [
    "# Combine Test Data"
   ]
  },
  {
   "cell_type": "code",
   "execution_count": 63,
   "metadata": {},
   "outputs": [],
   "source": [
    "# specify input and output attributes\n",
    "X = df.drop(columns=['Is_Lead','Avg_Account_Balance'], axis=1)\n",
    "\n",
    "y = df['Is_Lead']"
   ]
  },
  {
   "cell_type": "code",
   "execution_count": 64,
   "metadata": {},
   "outputs": [],
   "source": [
    "#test_df=pd.read_csv('test_mSzZ8RL.csv')"
   ]
  },
  {
   "cell_type": "code",
   "execution_count": 65,
   "metadata": {},
   "outputs": [],
   "source": [
    "test_df2=pd.read_csv('D:/Desktop/test_mSzZ8RL.csv')"
   ]
  },
  {
   "cell_type": "code",
   "execution_count": 66,
   "metadata": {},
   "outputs": [
    {
     "data": {
      "text/plain": [
       "(105312, 10)"
      ]
     },
     "execution_count": 66,
     "metadata": {},
     "output_type": "execute_result"
    }
   ],
   "source": [
    "test_df.shape"
   ]
  },
  {
   "cell_type": "code",
   "execution_count": 67,
   "metadata": {},
   "outputs": [
    {
     "data": {
      "text/html": [
       "<div>\n",
       "<style scoped>\n",
       "    .dataframe tbody tr th:only-of-type {\n",
       "        vertical-align: middle;\n",
       "    }\n",
       "\n",
       "    .dataframe tbody tr th {\n",
       "        vertical-align: top;\n",
       "    }\n",
       "\n",
       "    .dataframe thead th {\n",
       "        text-align: right;\n",
       "    }\n",
       "</style>\n",
       "<table border=\"1\" class=\"dataframe\">\n",
       "  <thead>\n",
       "    <tr style=\"text-align: right;\">\n",
       "      <th></th>\n",
       "      <th>ID</th>\n",
       "      <th>Gender</th>\n",
       "      <th>Age</th>\n",
       "      <th>Region_Code</th>\n",
       "      <th>Occupation</th>\n",
       "      <th>Channel_Code</th>\n",
       "      <th>Vintage</th>\n",
       "      <th>Credit_Product</th>\n",
       "      <th>Is_Active</th>\n",
       "      <th>log_Avg_Account_Balance</th>\n",
       "    </tr>\n",
       "  </thead>\n",
       "  <tbody>\n",
       "    <tr>\n",
       "      <th>0</th>\n",
       "      <td>0.894807</td>\n",
       "      <td>1.0</td>\n",
       "      <td>0.081967</td>\n",
       "      <td>0.117647</td>\n",
       "      <td>0.333333</td>\n",
       "      <td>0.000000</td>\n",
       "      <td>0.140625</td>\n",
       "      <td>1.0</td>\n",
       "      <td>0.0</td>\n",
       "      <td>0.574028</td>\n",
       "    </tr>\n",
       "    <tr>\n",
       "      <th>1</th>\n",
       "      <td>0.272972</td>\n",
       "      <td>1.0</td>\n",
       "      <td>0.311475</td>\n",
       "      <td>0.529412</td>\n",
       "      <td>0.333333</td>\n",
       "      <td>0.333333</td>\n",
       "      <td>0.328125</td>\n",
       "      <td>0.5</td>\n",
       "      <td>0.0</td>\n",
       "      <td>0.610280</td>\n",
       "    </tr>\n",
       "    <tr>\n",
       "      <th>2</th>\n",
       "      <td>0.900979</td>\n",
       "      <td>1.0</td>\n",
       "      <td>0.114754</td>\n",
       "      <td>0.588235</td>\n",
       "      <td>0.666667</td>\n",
       "      <td>0.000000</td>\n",
       "      <td>0.054688</td>\n",
       "      <td>0.0</td>\n",
       "      <td>0.0</td>\n",
       "      <td>0.371049</td>\n",
       "    </tr>\n",
       "    <tr>\n",
       "      <th>3</th>\n",
       "      <td>0.863547</td>\n",
       "      <td>1.0</td>\n",
       "      <td>0.081967</td>\n",
       "      <td>0.647059</td>\n",
       "      <td>0.333333</td>\n",
       "      <td>0.000000</td>\n",
       "      <td>0.203125</td>\n",
       "      <td>0.0</td>\n",
       "      <td>0.0</td>\n",
       "      <td>0.599743</td>\n",
       "    </tr>\n",
       "    <tr>\n",
       "      <th>4</th>\n",
       "      <td>0.833750</td>\n",
       "      <td>0.0</td>\n",
       "      <td>0.081967</td>\n",
       "      <td>0.588235</td>\n",
       "      <td>0.333333</td>\n",
       "      <td>0.000000</td>\n",
       "      <td>0.093750</td>\n",
       "      <td>0.0</td>\n",
       "      <td>0.0</td>\n",
       "      <td>0.553969</td>\n",
       "    </tr>\n",
       "    <tr>\n",
       "      <th>5</th>\n",
       "      <td>0.702481</td>\n",
       "      <td>1.0</td>\n",
       "      <td>0.590164</td>\n",
       "      <td>0.529412</td>\n",
       "      <td>1.000000</td>\n",
       "      <td>0.666667</td>\n",
       "      <td>0.804688</td>\n",
       "      <td>0.0</td>\n",
       "      <td>0.0</td>\n",
       "      <td>0.874722</td>\n",
       "    </tr>\n",
       "    <tr>\n",
       "      <th>6</th>\n",
       "      <td>0.958475</td>\n",
       "      <td>0.0</td>\n",
       "      <td>0.737705</td>\n",
       "      <td>0.088235</td>\n",
       "      <td>0.333333</td>\n",
       "      <td>0.333333</td>\n",
       "      <td>0.468750</td>\n",
       "      <td>0.0</td>\n",
       "      <td>0.0</td>\n",
       "      <td>0.628300</td>\n",
       "    </tr>\n",
       "    <tr>\n",
       "      <th>7</th>\n",
       "      <td>0.039132</td>\n",
       "      <td>0.0</td>\n",
       "      <td>0.098361</td>\n",
       "      <td>0.205882</td>\n",
       "      <td>0.666667</td>\n",
       "      <td>0.000000</td>\n",
       "      <td>0.203125</td>\n",
       "      <td>0.0</td>\n",
       "      <td>0.0</td>\n",
       "      <td>0.593753</td>\n",
       "    </tr>\n",
       "    <tr>\n",
       "      <th>8</th>\n",
       "      <td>0.909183</td>\n",
       "      <td>1.0</td>\n",
       "      <td>0.311475</td>\n",
       "      <td>1.000000</td>\n",
       "      <td>0.666667</td>\n",
       "      <td>0.666667</td>\n",
       "      <td>0.578125</td>\n",
       "      <td>0.5</td>\n",
       "      <td>1.0</td>\n",
       "      <td>0.623202</td>\n",
       "    </tr>\n",
       "    <tr>\n",
       "      <th>9</th>\n",
       "      <td>0.168074</td>\n",
       "      <td>0.0</td>\n",
       "      <td>0.491803</td>\n",
       "      <td>0.970588</td>\n",
       "      <td>1.000000</td>\n",
       "      <td>0.333333</td>\n",
       "      <td>0.234375</td>\n",
       "      <td>1.0</td>\n",
       "      <td>0.0</td>\n",
       "      <td>0.707088</td>\n",
       "    </tr>\n",
       "  </tbody>\n",
       "</table>\n",
       "</div>"
      ],
      "text/plain": [
       "         ID  Gender       Age  Region_Code  Occupation  Channel_Code  \\\n",
       "0  0.894807     1.0  0.081967     0.117647    0.333333      0.000000   \n",
       "1  0.272972     1.0  0.311475     0.529412    0.333333      0.333333   \n",
       "2  0.900979     1.0  0.114754     0.588235    0.666667      0.000000   \n",
       "3  0.863547     1.0  0.081967     0.647059    0.333333      0.000000   \n",
       "4  0.833750     0.0  0.081967     0.588235    0.333333      0.000000   \n",
       "5  0.702481     1.0  0.590164     0.529412    1.000000      0.666667   \n",
       "6  0.958475     0.0  0.737705     0.088235    0.333333      0.333333   \n",
       "7  0.039132     0.0  0.098361     0.205882    0.666667      0.000000   \n",
       "8  0.909183     1.0  0.311475     1.000000    0.666667      0.666667   \n",
       "9  0.168074     0.0  0.491803     0.970588    1.000000      0.333333   \n",
       "\n",
       "    Vintage  Credit_Product  Is_Active  log_Avg_Account_Balance  \n",
       "0  0.140625             1.0        0.0                 0.574028  \n",
       "1  0.328125             0.5        0.0                 0.610280  \n",
       "2  0.054688             0.0        0.0                 0.371049  \n",
       "3  0.203125             0.0        0.0                 0.599743  \n",
       "4  0.093750             0.0        0.0                 0.553969  \n",
       "5  0.804688             0.0        0.0                 0.874722  \n",
       "6  0.468750             0.0        0.0                 0.628300  \n",
       "7  0.203125             0.0        0.0                 0.593753  \n",
       "8  0.578125             0.5        1.0                 0.623202  \n",
       "9  0.234375             1.0        0.0                 0.707088  "
      ]
     },
     "execution_count": 67,
     "metadata": {},
     "output_type": "execute_result"
    }
   ],
   "source": [
    "test_df[\"Credit_Product\"].fillna(\"No info\", inplace = True)\n",
    "test_df['log_Avg_Account_Balance'] = np.log2(test_df['Avg_Account_Balance'])\n",
    "test_df.drop('Avg_Account_Balance',axis=1,inplace=True)\n",
    "from sklearn.preprocessing import LabelEncoder\n",
    "cols = [\"ID\",\"Gender\",\"Region_Code\",\"Credit_Product\",\"Occupation\",\"Channel_Code\",\"Is_Active\"]\n",
    "le = LabelEncoder()\n",
    "for col in cols:\n",
    "    test_df[col] = le.fit_transform(test_df[col])\n",
    "\n",
    "scaling_feature=[feature for feature in test_df.columns if feature not in ['Is_Lead'] ]\n",
    "len(scaling_feature)\n",
    "#Standarise the values of the variables to the same range\n",
    "feature_scale=[feature for feature in test_df.columns if feature not in ['Is_Lead']]\n",
    "\n",
    "from sklearn.preprocessing import MinMaxScaler\n",
    "scaler=MinMaxScaler()\n",
    "test_df[feature_scale] =scaler.fit_transform(test_df[feature_scale]) \n",
    "test_df = pd.DataFrame(test_df)\n",
    "test_df.head(10)"
   ]
  },
  {
   "cell_type": "code",
   "execution_count": 68,
   "metadata": {},
   "outputs": [],
   "source": [
    "#final_df.shape"
   ]
  },
  {
   "cell_type": "code",
   "execution_count": 69,
   "metadata": {},
   "outputs": [],
   "source": [
    "#final_df.head(100)"
   ]
  },
  {
   "cell_type": "markdown",
   "metadata": {},
   "source": [
    "# Train-Test Split"
   ]
  },
  {
   "cell_type": "code",
   "execution_count": 70,
   "metadata": {},
   "outputs": [],
   "source": [
    "#from sklearn.model_selection import train_test_split\n",
    "#x_train, x_test, y_train, y_test = train_test_split(X, y, test_size=0.25, random_state=42)\n",
    "X_train = X\n",
    "X_test = test_df\n",
    "y_train = y\n",
    "#y_test "
   ]
  },
  {
   "cell_type": "markdown",
   "metadata": {},
   "source": [
    "# Model Training"
   ]
  },
  {
   "cell_type": "code",
   "execution_count": 71,
   "metadata": {},
   "outputs": [
    {
     "name": "stdout",
     "output_type": "stream",
     "text": [
      "length of oversampled data is  374874\n",
      "Number of Lost Bid in oversampled data 187437\n",
      "Number of Won Bid 187437\n",
      "Proportion of not interested clients in oversampled data is  0.5\n",
      "Proportion of interested clients in oversampled data is  0.5\n"
     ]
    }
   ],
   "source": [
    "from imblearn.over_sampling import SMOTE\n",
    "#!pip install imbalanced-learn==0.7.0\n",
    "\n",
    "os = SMOTE(random_state=0)\n",
    "#X_train, X_test, y_train, y_test = train_test_split(X, y, test_size=0.3, random_state=0)\n",
    "columns = X_train.columns\n",
    "os_data_X,os_data_y=os.fit_sample(X_train, y_train)\n",
    "os_data_X = pd.DataFrame(data=os_data_X,columns=columns )\n",
    "os_data_y= pd.DataFrame(data=os_data_y,columns=['Is_Lead'])\n",
    "# we can Check the numbers of our data\n",
    "print(\"length of oversampled data is \",len(os_data_X))\n",
    "print(\"Number of Lost Bid in oversampled data\",len(os_data_y[os_data_y['Is_Lead']==0]))\n",
    "print(\"Number of Won Bid\",len(os_data_y[os_data_y['Is_Lead']==1]))\n",
    "print(\"Proportion of not interested clients in oversampled data is \",len(os_data_y[os_data_y['Is_Lead']==0])/len(os_data_X))\n",
    "print(\"Proportion of interested clients in oversampled data is \",len(os_data_y[os_data_y['Is_Lead']==1])/len(os_data_X))\n"
   ]
  },
  {
   "cell_type": "code",
   "execution_count": 72,
   "metadata": {},
   "outputs": [],
   "source": [
    "# classify function\n",
    "from sklearn.model_selection import cross_val_score\n",
    "from sklearn.model_selection import train_test_split\n",
    "def classify(model, x, y):\n",
    "    x_train, x_test, y_train, y_test = train_test_split(X, y, test_size=0.3, random_state=42)\n",
    "    model.fit(x_train, y_train)\n",
    "    print(\"Accuracy is\", model.score(x_test, y_test)*100)\n",
    "    # cross validation - it is used for better validation of model\n",
    "    # eg: cv-5, train-4, test-1\n",
    "    score = cross_val_score(model, x, y, cv=5)\n",
    "    print(\"Cross validation is\",np.mean(score)*100)"
   ]
  },
  {
   "cell_type": "code",
   "execution_count": 73,
   "metadata": {},
   "outputs": [
    {
     "name": "stdout",
     "output_type": "stream",
     "text": [
      "Accuracy is 76.23239914267886\n",
      "Cross validation is 76.32882287109572\n"
     ]
    }
   ],
   "source": [
    "from sklearn.linear_model import LogisticRegression\n",
    "model = LogisticRegression()\n",
    "classify(model, X, y)\n"
   ]
  },
  {
   "cell_type": "code",
   "execution_count": 74,
   "metadata": {},
   "outputs": [
    {
     "name": "stdout",
     "output_type": "stream",
     "text": [
      "Accuracy is 78.28345858542012\n",
      "Cross validation is 78.23054227286602\n"
     ]
    }
   ],
   "source": [
    "from sklearn.tree import DecisionTreeClassifier\n",
    "model = DecisionTreeClassifier()\n",
    "classify(model, X, y)"
   ]
  },
  {
   "cell_type": "code",
   "execution_count": 75,
   "metadata": {},
   "outputs": [
    {
     "name": "stdout",
     "output_type": "stream",
     "text": [
      "Accuracy is 85.58289698581079\n",
      "Cross validation is 85.69294943534439\n"
     ]
    }
   ],
   "source": [
    "from sklearn.ensemble import RandomForestClassifier,ExtraTreesClassifier\n",
    "model = RandomForestClassifier()\n",
    "classify(model, X, y)"
   ]
  },
  {
   "cell_type": "code",
   "execution_count": 76,
   "metadata": {},
   "outputs": [
    {
     "name": "stdout",
     "output_type": "stream",
     "text": [
      "Accuracy is 85.27767980683144\n",
      "Cross validation is 85.39424153016583\n"
     ]
    }
   ],
   "source": [
    "model = ExtraTreesClassifier()\n",
    "classify(model, X, y)"
   ]
  },
  {
   "cell_type": "code",
   "execution_count": 77,
   "metadata": {},
   "outputs": [],
   "source": [
    "y_pred = model.predict(X_test)"
   ]
  },
  {
   "cell_type": "code",
   "execution_count": 78,
   "metadata": {},
   "outputs": [
    {
     "data": {
      "text/plain": [
       "(105312, 1)"
      ]
     },
     "execution_count": 78,
     "metadata": {},
     "output_type": "execute_result"
    }
   ],
   "source": [
    "y_pred=pd.DataFrame(y_pred,columns=['Is_Lead'])\n",
    "y_pred.shape"
   ]
  },
  {
   "cell_type": "code",
   "execution_count": 79,
   "metadata": {},
   "outputs": [],
   "source": [
    "#final_df2 = pd.concat([test_df2,y_pred])\n",
    "test_df2['Is_Lead'] = y_pred\n"
   ]
  },
  {
   "cell_type": "code",
   "execution_count": 80,
   "metadata": {},
   "outputs": [],
   "source": [
    "final_df = test_df2[['ID','Is_Lead']]"
   ]
  },
  {
   "cell_type": "code",
   "execution_count": 81,
   "metadata": {},
   "outputs": [
    {
     "data": {
      "text/html": [
       "<div>\n",
       "<style scoped>\n",
       "    .dataframe tbody tr th:only-of-type {\n",
       "        vertical-align: middle;\n",
       "    }\n",
       "\n",
       "    .dataframe tbody tr th {\n",
       "        vertical-align: top;\n",
       "    }\n",
       "\n",
       "    .dataframe thead th {\n",
       "        text-align: right;\n",
       "    }\n",
       "</style>\n",
       "<table border=\"1\" class=\"dataframe\">\n",
       "  <thead>\n",
       "    <tr style=\"text-align: right;\">\n",
       "      <th></th>\n",
       "      <th>ID</th>\n",
       "      <th>Is_Lead</th>\n",
       "    </tr>\n",
       "  </thead>\n",
       "  <tbody>\n",
       "    <tr>\n",
       "      <th>0</th>\n",
       "      <td>VBENBARO</td>\n",
       "      <td>0</td>\n",
       "    </tr>\n",
       "    <tr>\n",
       "      <th>1</th>\n",
       "      <td>CCMEWNKY</td>\n",
       "      <td>1</td>\n",
       "    </tr>\n",
       "    <tr>\n",
       "      <th>2</th>\n",
       "      <td>VK3KGA9M</td>\n",
       "      <td>0</td>\n",
       "    </tr>\n",
       "    <tr>\n",
       "      <th>3</th>\n",
       "      <td>TT8RPZVC</td>\n",
       "      <td>0</td>\n",
       "    </tr>\n",
       "    <tr>\n",
       "      <th>4</th>\n",
       "      <td>SHQZEYTZ</td>\n",
       "      <td>0</td>\n",
       "    </tr>\n",
       "    <tr>\n",
       "      <th>...</th>\n",
       "      <td>...</td>\n",
       "      <td>...</td>\n",
       "    </tr>\n",
       "    <tr>\n",
       "      <th>105307</th>\n",
       "      <td>DBENJOYI</td>\n",
       "      <td>1</td>\n",
       "    </tr>\n",
       "    <tr>\n",
       "      <th>105308</th>\n",
       "      <td>CWQ72DWS</td>\n",
       "      <td>1</td>\n",
       "    </tr>\n",
       "    <tr>\n",
       "      <th>105309</th>\n",
       "      <td>HDESC8GU</td>\n",
       "      <td>0</td>\n",
       "    </tr>\n",
       "    <tr>\n",
       "      <th>105310</th>\n",
       "      <td>2PW4SFCA</td>\n",
       "      <td>0</td>\n",
       "    </tr>\n",
       "    <tr>\n",
       "      <th>105311</th>\n",
       "      <td>F2NOYPPZ</td>\n",
       "      <td>0</td>\n",
       "    </tr>\n",
       "  </tbody>\n",
       "</table>\n",
       "<p>105312 rows × 2 columns</p>\n",
       "</div>"
      ],
      "text/plain": [
       "              ID  Is_Lead\n",
       "0       VBENBARO        0\n",
       "1       CCMEWNKY        1\n",
       "2       VK3KGA9M        0\n",
       "3       TT8RPZVC        0\n",
       "4       SHQZEYTZ        0\n",
       "...          ...      ...\n",
       "105307  DBENJOYI        1\n",
       "105308  CWQ72DWS        1\n",
       "105309  HDESC8GU        0\n",
       "105310  2PW4SFCA        0\n",
       "105311  F2NOYPPZ        0\n",
       "\n",
       "[105312 rows x 2 columns]"
      ]
     },
     "execution_count": 81,
     "metadata": {},
     "output_type": "execute_result"
    }
   ],
   "source": [
    "final_df"
   ]
  },
  {
   "cell_type": "code",
   "execution_count": 82,
   "metadata": {},
   "outputs": [],
   "source": [
    "final_df.to_csv('submission.csv',index= False)"
   ]
  },
  {
   "cell_type": "code",
   "execution_count": null,
   "metadata": {},
   "outputs": [],
   "source": [
    "from sklearn.metrics import confusion_matrix, plot_confusion_matrix\n",
    "from sklearn.metrics import accuracy_score, precision_score, recall_score, f1_score,\\\n",
    "fbeta_score, matthews_corrcoef\n",
    "from sklearn.metrics import plot_roc_curve, plot_precision_recall_curve, roc_curve"
   ]
  },
  {
   "cell_type": "code",
   "execution_count": null,
   "metadata": {},
   "outputs": [],
   "source": [
    "confusion_matrix(y_true=y_test, y_pred=preds)"
   ]
  },
  {
   "cell_type": "code",
   "execution_count": null,
   "metadata": {},
   "outputs": [],
   "source": []
  },
  {
   "cell_type": "code",
   "execution_count": null,
   "metadata": {},
   "outputs": [],
   "source": []
  },
  {
   "cell_type": "markdown",
   "metadata": {},
   "source": [
    "# Hyperparameter tuning"
   ]
  },
  {
   "cell_type": "code",
   "execution_count": 83,
   "metadata": {},
   "outputs": [
    {
     "name": "stdout",
     "output_type": "stream",
     "text": [
      "Accuracy is 82.29604709840201\n",
      "Cross validation is 81.88422016481839\n"
     ]
    }
   ],
   "source": [
    "\n",
    "model = RandomForestClassifier(n_estimators=150, min_samples_split=25, max_depth=7, max_features=1)\n",
    "classify(model, X, y)\n"
   ]
  },
  {
   "cell_type": "markdown",
   "metadata": {},
   "source": [
    "# Confusion Matrix"
   ]
  },
  {
   "cell_type": "code",
   "execution_count": 84,
   "metadata": {},
   "outputs": [
    {
     "data": {
      "text/plain": [
       "RandomForestClassifier()"
      ]
     },
     "execution_count": 84,
     "metadata": {},
     "output_type": "execute_result"
    }
   ],
   "source": [
    "model = RandomForestClassifier()\n",
    "model.fit(X_train, y_train)"
   ]
  },
  {
   "cell_type": "code",
   "execution_count": 85,
   "metadata": {},
   "outputs": [
    {
     "ename": "ValueError",
     "evalue": "Found input variables with inconsistent numbers of samples: [245725, 105312]",
     "output_type": "error",
     "traceback": [
      "\u001b[1;31m---------------------------------------------------------------------------\u001b[0m",
      "\u001b[1;31mValueError\u001b[0m                                Traceback (most recent call last)",
      "\u001b[1;32m<ipython-input-85-b46717086e06>\u001b[0m in \u001b[0;36m<module>\u001b[1;34m\u001b[0m\n\u001b[0;32m      1\u001b[0m \u001b[1;32mfrom\u001b[0m \u001b[0msklearn\u001b[0m\u001b[1;33m.\u001b[0m\u001b[0mmetrics\u001b[0m \u001b[1;32mimport\u001b[0m \u001b[0mconfusion_matrix\u001b[0m\u001b[1;33m\u001b[0m\u001b[1;33m\u001b[0m\u001b[0m\n\u001b[0;32m      2\u001b[0m \u001b[0my_pred1\u001b[0m \u001b[1;33m=\u001b[0m \u001b[0mmodel\u001b[0m\u001b[1;33m.\u001b[0m\u001b[0mpredict\u001b[0m\u001b[1;33m(\u001b[0m\u001b[0mX_test\u001b[0m\u001b[1;33m)\u001b[0m\u001b[1;33m\u001b[0m\u001b[1;33m\u001b[0m\u001b[0m\n\u001b[1;32m----> 3\u001b[1;33m \u001b[0mcm\u001b[0m \u001b[1;33m=\u001b[0m \u001b[0mconfusion_matrix\u001b[0m\u001b[1;33m(\u001b[0m\u001b[0my\u001b[0m\u001b[1;33m,\u001b[0m \u001b[0my_pred\u001b[0m\u001b[1;33m)\u001b[0m\u001b[1;33m\u001b[0m\u001b[1;33m\u001b[0m\u001b[0m\n\u001b[0m\u001b[0;32m      4\u001b[0m \u001b[0mcm\u001b[0m\u001b[1;33m\u001b[0m\u001b[1;33m\u001b[0m\u001b[0m\n",
      "\u001b[1;32m~\\anaconda3\\lib\\site-packages\\sklearn\\utils\\validation.py\u001b[0m in \u001b[0;36minner_f\u001b[1;34m(*args, **kwargs)\u001b[0m\n\u001b[0;32m     61\u001b[0m             \u001b[0mextra_args\u001b[0m \u001b[1;33m=\u001b[0m \u001b[0mlen\u001b[0m\u001b[1;33m(\u001b[0m\u001b[0margs\u001b[0m\u001b[1;33m)\u001b[0m \u001b[1;33m-\u001b[0m \u001b[0mlen\u001b[0m\u001b[1;33m(\u001b[0m\u001b[0mall_args\u001b[0m\u001b[1;33m)\u001b[0m\u001b[1;33m\u001b[0m\u001b[1;33m\u001b[0m\u001b[0m\n\u001b[0;32m     62\u001b[0m             \u001b[1;32mif\u001b[0m \u001b[0mextra_args\u001b[0m \u001b[1;33m<=\u001b[0m \u001b[1;36m0\u001b[0m\u001b[1;33m:\u001b[0m\u001b[1;33m\u001b[0m\u001b[1;33m\u001b[0m\u001b[0m\n\u001b[1;32m---> 63\u001b[1;33m                 \u001b[1;32mreturn\u001b[0m \u001b[0mf\u001b[0m\u001b[1;33m(\u001b[0m\u001b[1;33m*\u001b[0m\u001b[0margs\u001b[0m\u001b[1;33m,\u001b[0m \u001b[1;33m**\u001b[0m\u001b[0mkwargs\u001b[0m\u001b[1;33m)\u001b[0m\u001b[1;33m\u001b[0m\u001b[1;33m\u001b[0m\u001b[0m\n\u001b[0m\u001b[0;32m     64\u001b[0m \u001b[1;33m\u001b[0m\u001b[0m\n\u001b[0;32m     65\u001b[0m             \u001b[1;31m# extra_args > 0\u001b[0m\u001b[1;33m\u001b[0m\u001b[1;33m\u001b[0m\u001b[1;33m\u001b[0m\u001b[0m\n",
      "\u001b[1;32m~\\anaconda3\\lib\\site-packages\\sklearn\\metrics\\_classification.py\u001b[0m in \u001b[0;36mconfusion_matrix\u001b[1;34m(y_true, y_pred, labels, sample_weight, normalize)\u001b[0m\n\u001b[0;32m    294\u001b[0m \u001b[1;33m\u001b[0m\u001b[0m\n\u001b[0;32m    295\u001b[0m     \"\"\"\n\u001b[1;32m--> 296\u001b[1;33m     \u001b[0my_type\u001b[0m\u001b[1;33m,\u001b[0m \u001b[0my_true\u001b[0m\u001b[1;33m,\u001b[0m \u001b[0my_pred\u001b[0m \u001b[1;33m=\u001b[0m \u001b[0m_check_targets\u001b[0m\u001b[1;33m(\u001b[0m\u001b[0my_true\u001b[0m\u001b[1;33m,\u001b[0m \u001b[0my_pred\u001b[0m\u001b[1;33m)\u001b[0m\u001b[1;33m\u001b[0m\u001b[1;33m\u001b[0m\u001b[0m\n\u001b[0m\u001b[0;32m    297\u001b[0m     \u001b[1;32mif\u001b[0m \u001b[0my_type\u001b[0m \u001b[1;32mnot\u001b[0m \u001b[1;32min\u001b[0m \u001b[1;33m(\u001b[0m\u001b[1;34m\"binary\"\u001b[0m\u001b[1;33m,\u001b[0m \u001b[1;34m\"multiclass\"\u001b[0m\u001b[1;33m)\u001b[0m\u001b[1;33m:\u001b[0m\u001b[1;33m\u001b[0m\u001b[1;33m\u001b[0m\u001b[0m\n\u001b[0;32m    298\u001b[0m         \u001b[1;32mraise\u001b[0m \u001b[0mValueError\u001b[0m\u001b[1;33m(\u001b[0m\u001b[1;34m\"%s is not supported\"\u001b[0m \u001b[1;33m%\u001b[0m \u001b[0my_type\u001b[0m\u001b[1;33m)\u001b[0m\u001b[1;33m\u001b[0m\u001b[1;33m\u001b[0m\u001b[0m\n",
      "\u001b[1;32m~\\anaconda3\\lib\\site-packages\\sklearn\\metrics\\_classification.py\u001b[0m in \u001b[0;36m_check_targets\u001b[1;34m(y_true, y_pred)\u001b[0m\n\u001b[0;32m     81\u001b[0m     \u001b[0my_pred\u001b[0m \u001b[1;33m:\u001b[0m \u001b[0marray\u001b[0m \u001b[1;32mor\u001b[0m \u001b[0mindicator\u001b[0m \u001b[0mmatrix\u001b[0m\u001b[1;33m\u001b[0m\u001b[1;33m\u001b[0m\u001b[0m\n\u001b[0;32m     82\u001b[0m     \"\"\"\n\u001b[1;32m---> 83\u001b[1;33m     \u001b[0mcheck_consistent_length\u001b[0m\u001b[1;33m(\u001b[0m\u001b[0my_true\u001b[0m\u001b[1;33m,\u001b[0m \u001b[0my_pred\u001b[0m\u001b[1;33m)\u001b[0m\u001b[1;33m\u001b[0m\u001b[1;33m\u001b[0m\u001b[0m\n\u001b[0m\u001b[0;32m     84\u001b[0m     \u001b[0mtype_true\u001b[0m \u001b[1;33m=\u001b[0m \u001b[0mtype_of_target\u001b[0m\u001b[1;33m(\u001b[0m\u001b[0my_true\u001b[0m\u001b[1;33m)\u001b[0m\u001b[1;33m\u001b[0m\u001b[1;33m\u001b[0m\u001b[0m\n\u001b[0;32m     85\u001b[0m     \u001b[0mtype_pred\u001b[0m \u001b[1;33m=\u001b[0m \u001b[0mtype_of_target\u001b[0m\u001b[1;33m(\u001b[0m\u001b[0my_pred\u001b[0m\u001b[1;33m)\u001b[0m\u001b[1;33m\u001b[0m\u001b[1;33m\u001b[0m\u001b[0m\n",
      "\u001b[1;32m~\\anaconda3\\lib\\site-packages\\sklearn\\utils\\validation.py\u001b[0m in \u001b[0;36mcheck_consistent_length\u001b[1;34m(*arrays)\u001b[0m\n\u001b[0;32m    260\u001b[0m     \u001b[0muniques\u001b[0m \u001b[1;33m=\u001b[0m \u001b[0mnp\u001b[0m\u001b[1;33m.\u001b[0m\u001b[0munique\u001b[0m\u001b[1;33m(\u001b[0m\u001b[0mlengths\u001b[0m\u001b[1;33m)\u001b[0m\u001b[1;33m\u001b[0m\u001b[1;33m\u001b[0m\u001b[0m\n\u001b[0;32m    261\u001b[0m     \u001b[1;32mif\u001b[0m \u001b[0mlen\u001b[0m\u001b[1;33m(\u001b[0m\u001b[0muniques\u001b[0m\u001b[1;33m)\u001b[0m \u001b[1;33m>\u001b[0m \u001b[1;36m1\u001b[0m\u001b[1;33m:\u001b[0m\u001b[1;33m\u001b[0m\u001b[1;33m\u001b[0m\u001b[0m\n\u001b[1;32m--> 262\u001b[1;33m         raise ValueError(\"Found input variables with inconsistent numbers of\"\n\u001b[0m\u001b[0;32m    263\u001b[0m                          \" samples: %r\" % [int(l) for l in lengths])\n\u001b[0;32m    264\u001b[0m \u001b[1;33m\u001b[0m\u001b[0m\n",
      "\u001b[1;31mValueError\u001b[0m: Found input variables with inconsistent numbers of samples: [245725, 105312]"
     ]
    }
   ],
   "source": [
    "from sklearn.metrics import confusion_matrix\n",
    "y_pred1 = model.predict(X_test)\n",
    "cm = confusion_matrix(y, y_pred)\n",
    "cm"
   ]
  },
  {
   "cell_type": "code",
   "execution_count": null,
   "metadata": {},
   "outputs": [],
   "source": [
    "y_pred = model.predict(X_test)\n"
   ]
  },
  {
   "cell_type": "code",
   "execution_count": null,
   "metadata": {},
   "outputs": [],
   "source": [
    "sns.heatmap(cm, annot=True)"
   ]
  },
  {
   "cell_type": "code",
   "execution_count": null,
   "metadata": {},
   "outputs": [],
   "source": []
  },
  {
   "cell_type": "code",
   "execution_count": null,
   "metadata": {},
   "outputs": [],
   "source": []
  }
 ],
 "metadata": {
  "kernelspec": {
   "display_name": "Python 3",
   "language": "python",
   "name": "python3"
  },
  "language_info": {
   "codemirror_mode": {
    "name": "ipython",
    "version": 3
   },
   "file_extension": ".py",
   "mimetype": "text/x-python",
   "name": "python",
   "nbconvert_exporter": "python",
   "pygments_lexer": "ipython3",
   "version": "3.8.5"
  }
 },
 "nbformat": 4,
 "nbformat_minor": 4
}
